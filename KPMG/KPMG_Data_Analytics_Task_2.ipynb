{
  "cells": [
    {
      "cell_type": "markdown",
      "metadata": {
        "colab_type": "text",
        "id": "view-in-github"
      },
      "source": [
        "<a href=\"https://colab.research.google.com/github/shubhahegde2002/KPMG-Data-Analytics-Virtual-Experience-Program/blob/main/KPMG_Data_Analytics_Task_2.ipynb\" target=\"_parent\"><img src=\"https://colab.research.google.com/assets/colab-badge.svg\" alt=\"Open In Colab\"/></a>"
      ]
    },
    {
      "cell_type": "code",
      "execution_count": 4,
      "metadata": {
        "id": "ADyTuMuqdf1k"
      },
      "outputs": [],
      "source": [
        "import pandas as pd"
      ]
    },
    {
      "cell_type": "code",
      "execution_count": 5,
      "metadata": {
        "id": "_d-aYT0JeFyg"
      },
      "outputs": [],
      "source": [
        "df=pd.read_excel(r'c:\\Users\\hooda\\Desktop\\forage\\KPMG\\CustomerDemographic.xlsx',skiprows=1)\n",
        "df1=pd.read_excel(r'C:\\Users\\hooda\\Desktop\\forage\\KPMG\\CustomerAddress.xlsx',skiprows=1)\n",
        "df3 = pd.read_excel(r'C:\\Users\\hooda\\Desktop\\forage\\KPMG\\NewCustomerList.xlsx', skiprows=1)\n"
      ]
    },
    {
      "cell_type": "code",
      "execution_count": 6,
      "metadata": {
        "id": "WbwkbGI2eLQT"
      },
      "outputs": [],
      "source": [
        "df=df.set_index('customer_id')\n",
        "df1=df1.set_index('customer_id')"
      ]
    },
    {
      "cell_type": "code",
      "execution_count": 7,
      "metadata": {
        "id": "-vXBWYBKTkmy"
      },
      "outputs": [],
      "source": [
        "df=df.sort_values(\"customer_id\",ascending=True)"
      ]
    },
    {
      "cell_type": "code",
      "execution_count": 8,
      "metadata": {
        "id": "3gb2hRl2fElB"
      },
      "outputs": [],
      "source": [
        "df=df.drop(['First_name','last_name','DOB','deceased_indicator','tenure'],axis=1)"
      ]
    },
    {
      "cell_type": "code",
      "execution_count": 9,
      "metadata": {
        "id": "5bym94PNhG4F"
      },
      "outputs": [],
      "source": [
        "df1=df1.sort_values('customer_id',ascending=True)"
      ]
    },
    {
      "cell_type": "code",
      "execution_count": 10,
      "metadata": {
        "colab": {
          "base_uri": "https://localhost:8080/"
        },
        "id": "wfeMdIfQgv0V",
        "outputId": "19ffcc4e-f8d7-41cc-a7c6-5b62c45b2750"
      },
      "outputs": [
        {
          "data": {
            "text/plain": [
              "gender                                  object\n",
              "past_3_years_bike_related_purchases      int64\n",
              "Age                                    float64\n",
              "job_title                               object\n",
              "job_industry_category                   object\n",
              "wealth_segment                          object\n",
              "owns_car                                object\n",
              "dtype: object"
            ]
          },
          "execution_count": 10,
          "metadata": {},
          "output_type": "execute_result"
        }
      ],
      "source": [
        "df.dtypes"
      ]
    },
    {
      "cell_type": "code",
      "execution_count": 11,
      "metadata": {
        "colab": {
          "base_uri": "https://localhost:8080/"
        },
        "id": "ryC4oaOVLAoh",
        "outputId": "fdf9b738-4c52-4b09-b9c4-858e6e85ec19"
      },
      "outputs": [
        {
          "data": {
            "text/plain": [
              "Index(['gender', 'past_3_years_bike_related_purchases', 'Age', 'job_title',\n",
              "       'job_industry_category', 'wealth_segment', 'owns_car'],\n",
              "      dtype='object')"
            ]
          },
          "execution_count": 11,
          "metadata": {},
          "output_type": "execute_result"
        }
      ],
      "source": [
        "df.columns"
      ]
    },
    {
      "cell_type": "code",
      "execution_count": 12,
      "metadata": {
        "colab": {
          "base_uri": "https://localhost:8080/"
        },
        "id": "QIWKbGfWLCnd",
        "outputId": "6306fd2c-4989-4331-d208-f741be760913"
      },
      "outputs": [
        {
          "data": {
            "text/plain": [
              "Index(['address', 'postcode', 'state', 'country', 'property_valuation'], dtype='object')"
            ]
          },
          "execution_count": 12,
          "metadata": {},
          "output_type": "execute_result"
        }
      ],
      "source": [
        "df1.columns"
      ]
    },
    {
      "cell_type": "code",
      "execution_count": 13,
      "metadata": {
        "id": "e0rBqHgjLEfo"
      },
      "outputs": [],
      "source": [
        "df1=df1.drop(['address','country','property_valuation'],axis=1)\n"
      ]
    },
    {
      "cell_type": "code",
      "execution_count": 14,
      "metadata": {
        "id": "B_FuhEUZuiW8"
      },
      "outputs": [],
      "source": [
        "df['postcode']=df1['postcode']\n",
        "df['state']=df1['state']"
      ]
    },
    {
      "cell_type": "code",
      "execution_count": 15,
      "metadata": {
        "colab": {
          "base_uri": "https://localhost:8080/",
          "height": 371
        },
        "id": "ZyutEQ1rLtwA",
        "outputId": "fe172872-e6f6-4417-94fe-a6bc41948888"
      },
      "outputs": [
        {
          "data": {
            "text/html": [
              "<div>\n",
              "<style scoped>\n",
              "    .dataframe tbody tr th:only-of-type {\n",
              "        vertical-align: middle;\n",
              "    }\n",
              "\n",
              "    .dataframe tbody tr th {\n",
              "        vertical-align: top;\n",
              "    }\n",
              "\n",
              "    .dataframe thead th {\n",
              "        text-align: right;\n",
              "    }\n",
              "</style>\n",
              "<table border=\"1\" class=\"dataframe\">\n",
              "  <thead>\n",
              "    <tr style=\"text-align: right;\">\n",
              "      <th></th>\n",
              "      <th>gender</th>\n",
              "      <th>past_3_years_bike_related_purchases</th>\n",
              "      <th>Age</th>\n",
              "      <th>job_title</th>\n",
              "      <th>job_industry_category</th>\n",
              "      <th>wealth_segment</th>\n",
              "      <th>owns_car</th>\n",
              "      <th>postcode</th>\n",
              "      <th>state</th>\n",
              "    </tr>\n",
              "    <tr>\n",
              "      <th>customer_id</th>\n",
              "      <th></th>\n",
              "      <th></th>\n",
              "      <th></th>\n",
              "      <th></th>\n",
              "      <th></th>\n",
              "      <th></th>\n",
              "      <th></th>\n",
              "      <th></th>\n",
              "      <th></th>\n",
              "    </tr>\n",
              "  </thead>\n",
              "  <tbody>\n",
              "    <tr>\n",
              "      <th>1</th>\n",
              "      <td>Female</td>\n",
              "      <td>93</td>\n",
              "      <td>68.298630</td>\n",
              "      <td>Executive Secretary</td>\n",
              "      <td>Health</td>\n",
              "      <td>Mass Customer</td>\n",
              "      <td>Yes</td>\n",
              "      <td>2016.0</td>\n",
              "      <td>NSW</td>\n",
              "    </tr>\n",
              "    <tr>\n",
              "      <th>2</th>\n",
              "      <td>Male</td>\n",
              "      <td>81</td>\n",
              "      <td>41.101370</td>\n",
              "      <td>Administrative Officer</td>\n",
              "      <td>Financial Services</td>\n",
              "      <td>Mass Customer</td>\n",
              "      <td>Yes</td>\n",
              "      <td>2153.0</td>\n",
              "      <td>NSW</td>\n",
              "    </tr>\n",
              "    <tr>\n",
              "      <th>3</th>\n",
              "      <td>Male</td>\n",
              "      <td>61</td>\n",
              "      <td>68.024658</td>\n",
              "      <td>Recruiting Manager</td>\n",
              "      <td>Property</td>\n",
              "      <td>Mass Customer</td>\n",
              "      <td>Yes</td>\n",
              "      <td>NaN</td>\n",
              "      <td>NaN</td>\n",
              "    </tr>\n",
              "    <tr>\n",
              "      <th>4</th>\n",
              "      <td>Male</td>\n",
              "      <td>33</td>\n",
              "      <td>60.317808</td>\n",
              "      <td>NaN</td>\n",
              "      <td>IT</td>\n",
              "      <td>Mass Customer</td>\n",
              "      <td>No</td>\n",
              "      <td>4211.0</td>\n",
              "      <td>QLD</td>\n",
              "    </tr>\n",
              "    <tr>\n",
              "      <th>5</th>\n",
              "      <td>Female</td>\n",
              "      <td>56</td>\n",
              "      <td>44.698630</td>\n",
              "      <td>Senior Editor</td>\n",
              "      <td>NaN</td>\n",
              "      <td>Affluent Customer</td>\n",
              "      <td>Yes</td>\n",
              "      <td>2448.0</td>\n",
              "      <td>NSW</td>\n",
              "    </tr>\n",
              "  </tbody>\n",
              "</table>\n",
              "</div>"
            ],
            "text/plain": [
              "             gender  past_3_years_bike_related_purchases        Age  \\\n",
              "customer_id                                                           \n",
              "1            Female                                   93  68.298630   \n",
              "2              Male                                   81  41.101370   \n",
              "3              Male                                   61  68.024658   \n",
              "4              Male                                   33  60.317808   \n",
              "5            Female                                   56  44.698630   \n",
              "\n",
              "                          job_title job_industry_category     wealth_segment  \\\n",
              "customer_id                                                                    \n",
              "1               Executive Secretary                Health      Mass Customer   \n",
              "2            Administrative Officer    Financial Services      Mass Customer   \n",
              "3                Recruiting Manager              Property      Mass Customer   \n",
              "4                               NaN                    IT      Mass Customer   \n",
              "5                     Senior Editor                   NaN  Affluent Customer   \n",
              "\n",
              "            owns_car  postcode state  \n",
              "customer_id                           \n",
              "1                Yes    2016.0   NSW  \n",
              "2                Yes    2153.0   NSW  \n",
              "3                Yes       NaN   NaN  \n",
              "4                 No    4211.0   QLD  \n",
              "5                Yes    2448.0   NSW  "
            ]
          },
          "execution_count": 15,
          "metadata": {},
          "output_type": "execute_result"
        }
      ],
      "source": [
        "df.head()"
      ]
    },
    {
      "cell_type": "code",
      "execution_count": 16,
      "metadata": {
        "colab": {
          "base_uri": "https://localhost:8080/"
        },
        "id": "yCHoZyb2NPCl",
        "outputId": "7fbe462e-0faa-4261-d6fc-919f4198c7fa"
      },
      "outputs": [
        {
          "data": {
            "text/plain": [
              "(3999, 2)"
            ]
          },
          "execution_count": 16,
          "metadata": {},
          "output_type": "execute_result"
        }
      ],
      "source": [
        "df1.shape"
      ]
    },
    {
      "cell_type": "code",
      "execution_count": 17,
      "metadata": {
        "colab": {
          "base_uri": "https://localhost:8080/"
        },
        "id": "UL7VRrUohuKD",
        "outputId": "68ace4de-eb11-4837-f074-a990b6efe150"
      },
      "outputs": [
        {
          "data": {
            "text/plain": [
              "gender                                 0\n",
              "past_3_years_bike_related_purchases    0\n",
              "Age                                    0\n",
              "job_title                              0\n",
              "job_industry_category                  0\n",
              "wealth_segment                         0\n",
              "owns_car                               0\n",
              "postcode                               0\n",
              "state                                  0\n",
              "dtype: int64"
            ]
          },
          "execution_count": 17,
          "metadata": {},
          "output_type": "execute_result"
        }
      ],
      "source": [
        "df=df.dropna()\n",
        "df.isnull().sum()"
      ]
    },
    {
      "cell_type": "code",
      "execution_count": 18,
      "metadata": {
        "colab": {
          "base_uri": "https://localhost:8080/"
        },
        "id": "AC0eS6A-g76F",
        "outputId": "aabcc6e3-76b5-4c3f-a914-504dff2d11bb"
      },
      "outputs": [],
      "source": [
        "df['Age']=df['Age'].astype('int64')\n"
      ]
    },
    {
      "cell_type": "code",
      "execution_count": 19,
      "metadata": {
        "colab": {
          "base_uri": "https://localhost:8080/",
          "height": 423
        },
        "id": "5wjDVdEPhMBw",
        "outputId": "33c45c93-453b-4f1a-8396-57ccb2a0b6f5"
      },
      "outputs": [
        {
          "data": {
            "text/html": [
              "<div>\n",
              "<style scoped>\n",
              "    .dataframe tbody tr th:only-of-type {\n",
              "        vertical-align: middle;\n",
              "    }\n",
              "\n",
              "    .dataframe tbody tr th {\n",
              "        vertical-align: top;\n",
              "    }\n",
              "\n",
              "    .dataframe thead th {\n",
              "        text-align: right;\n",
              "    }\n",
              "</style>\n",
              "<table border=\"1\" class=\"dataframe\">\n",
              "  <thead>\n",
              "    <tr style=\"text-align: right;\">\n",
              "      <th></th>\n",
              "      <th>gender</th>\n",
              "      <th>past_3_years_bike_related_purchases</th>\n",
              "      <th>Age</th>\n",
              "      <th>job_title</th>\n",
              "      <th>job_industry_category</th>\n",
              "      <th>wealth_segment</th>\n",
              "      <th>owns_car</th>\n",
              "      <th>postcode</th>\n",
              "      <th>state</th>\n",
              "    </tr>\n",
              "    <tr>\n",
              "      <th>customer_id</th>\n",
              "      <th></th>\n",
              "      <th></th>\n",
              "      <th></th>\n",
              "      <th></th>\n",
              "      <th></th>\n",
              "      <th></th>\n",
              "      <th></th>\n",
              "      <th></th>\n",
              "      <th></th>\n",
              "    </tr>\n",
              "  </thead>\n",
              "  <tbody>\n",
              "    <tr>\n",
              "      <th>1</th>\n",
              "      <td>Female</td>\n",
              "      <td>93</td>\n",
              "      <td>68</td>\n",
              "      <td>Executive Secretary</td>\n",
              "      <td>Health</td>\n",
              "      <td>Mass Customer</td>\n",
              "      <td>Yes</td>\n",
              "      <td>2016.0</td>\n",
              "      <td>NSW</td>\n",
              "    </tr>\n",
              "    <tr>\n",
              "      <th>2</th>\n",
              "      <td>Male</td>\n",
              "      <td>81</td>\n",
              "      <td>41</td>\n",
              "      <td>Administrative Officer</td>\n",
              "      <td>Financial Services</td>\n",
              "      <td>Mass Customer</td>\n",
              "      <td>Yes</td>\n",
              "      <td>2153.0</td>\n",
              "      <td>NSW</td>\n",
              "    </tr>\n",
              "    <tr>\n",
              "      <th>9</th>\n",
              "      <td>Female</td>\n",
              "      <td>97</td>\n",
              "      <td>48</td>\n",
              "      <td>Business Systems Development Analyst</td>\n",
              "      <td>Argiculture</td>\n",
              "      <td>Affluent Customer</td>\n",
              "      <td>Yes</td>\n",
              "      <td>2023.0</td>\n",
              "      <td>NSW</td>\n",
              "    </tr>\n",
              "    <tr>\n",
              "      <th>12</th>\n",
              "      <td>Male</td>\n",
              "      <td>58</td>\n",
              "      <td>27</td>\n",
              "      <td>Nuclear Power Engineer</td>\n",
              "      <td>Manufacturing</td>\n",
              "      <td>Mass Customer</td>\n",
              "      <td>No</td>\n",
              "      <td>4557.0</td>\n",
              "      <td>QLD</td>\n",
              "    </tr>\n",
              "    <tr>\n",
              "      <th>13</th>\n",
              "      <td>Male</td>\n",
              "      <td>38</td>\n",
              "      <td>66</td>\n",
              "      <td>Developer I</td>\n",
              "      <td>Financial Services</td>\n",
              "      <td>High Net Worth</td>\n",
              "      <td>Yes</td>\n",
              "      <td>3799.0</td>\n",
              "      <td>VIC</td>\n",
              "    </tr>\n",
              "  </tbody>\n",
              "</table>\n",
              "</div>"
            ],
            "text/plain": [
              "             gender  past_3_years_bike_related_purchases  Age  \\\n",
              "customer_id                                                     \n",
              "1            Female                                   93   68   \n",
              "2              Male                                   81   41   \n",
              "9            Female                                   97   48   \n",
              "12             Male                                   58   27   \n",
              "13             Male                                   38   66   \n",
              "\n",
              "                                        job_title job_industry_category  \\\n",
              "customer_id                                                               \n",
              "1                             Executive Secretary                Health   \n",
              "2                          Administrative Officer    Financial Services   \n",
              "9            Business Systems Development Analyst           Argiculture   \n",
              "12                         Nuclear Power Engineer         Manufacturing   \n",
              "13                                    Developer I    Financial Services   \n",
              "\n",
              "                wealth_segment owns_car  postcode state  \n",
              "customer_id                                              \n",
              "1                Mass Customer      Yes    2016.0   NSW  \n",
              "2                Mass Customer      Yes    2153.0   NSW  \n",
              "9            Affluent Customer      Yes    2023.0   NSW  \n",
              "12               Mass Customer       No    4557.0   QLD  \n",
              "13              High Net Worth      Yes    3799.0   VIC  "
            ]
          },
          "execution_count": 19,
          "metadata": {},
          "output_type": "execute_result"
        }
      ],
      "source": [
        "df.head()"
      ]
    },
    {
      "cell_type": "code",
      "execution_count": 20,
      "metadata": {
        "colab": {
          "base_uri": "https://localhost:8080/"
        },
        "id": "IdGlMIg8iIH1",
        "outputId": "a913e81c-82c1-4496-b8f2-1920986b4b04"
      },
      "outputs": [
        {
          "data": {
            "text/plain": [
              "gender                                  object\n",
              "past_3_years_bike_related_purchases      int64\n",
              "Age                                      int64\n",
              "job_title                               object\n",
              "job_industry_category                   object\n",
              "wealth_segment                          object\n",
              "owns_car                                object\n",
              "postcode                               float64\n",
              "state                                   object\n",
              "dtype: object"
            ]
          },
          "execution_count": 20,
          "metadata": {},
          "output_type": "execute_result"
        }
      ],
      "source": [
        "df.dtypes"
      ]
    },
    {
      "cell_type": "code",
      "execution_count": 21,
      "metadata": {
        "id": "U1s29Gdomnru"
      },
      "outputs": [],
      "source": [
        "df3=df3.drop(['Unnamed: 17','Unnamed: 18',\t'Unnamed: 19',\t'Unnamed: 20',\t'Unnamed: 21'],axis=1)"
      ]
    },
    {
      "cell_type": "code",
      "execution_count": 22,
      "metadata": {
        "id": "lXZfichRpScy"
      },
      "outputs": [],
      "source": [
        "df3=df3.drop(['DOB','deceased_indicator','tenure','address','country','property_valuation','Rank','Value'],axis=1)"
      ]
    },
    {
      "cell_type": "code",
      "execution_count": 23,
      "metadata": {
        "colab": {
          "base_uri": "https://localhost:8080/",
          "height": 357
        },
        "id": "r8ZPxXv0WYZX",
        "outputId": "77995253-dfbc-479b-a36d-b7dea191c5b4"
      },
      "outputs": [
        {
          "data": {
            "text/html": [
              "<div>\n",
              "<style scoped>\n",
              "    .dataframe tbody tr th:only-of-type {\n",
              "        vertical-align: middle;\n",
              "    }\n",
              "\n",
              "    .dataframe tbody tr th {\n",
              "        vertical-align: top;\n",
              "    }\n",
              "\n",
              "    .dataframe thead th {\n",
              "        text-align: right;\n",
              "    }\n",
              "</style>\n",
              "<table border=\"1\" class=\"dataframe\">\n",
              "  <thead>\n",
              "    <tr style=\"text-align: right;\">\n",
              "      <th></th>\n",
              "      <th>first_name</th>\n",
              "      <th>last_name</th>\n",
              "      <th>gender</th>\n",
              "      <th>past_3_years_bike_related_purchases</th>\n",
              "      <th>Age</th>\n",
              "      <th>job_title</th>\n",
              "      <th>job_industry_category</th>\n",
              "      <th>wealth_segment</th>\n",
              "      <th>owns_car</th>\n",
              "      <th>postcode</th>\n",
              "      <th>state</th>\n",
              "    </tr>\n",
              "  </thead>\n",
              "  <tbody>\n",
              "    <tr>\n",
              "      <th>0</th>\n",
              "      <td>Giulietta</td>\n",
              "      <td>Garbott</td>\n",
              "      <td>Female</td>\n",
              "      <td>59</td>\n",
              "      <td>19.887671</td>\n",
              "      <td>Technical Writer</td>\n",
              "      <td>NaN</td>\n",
              "      <td>Affluent Customer</td>\n",
              "      <td>Yes</td>\n",
              "      <td>3810</td>\n",
              "      <td>VIC</td>\n",
              "    </tr>\n",
              "    <tr>\n",
              "      <th>1</th>\n",
              "      <td>Lura</td>\n",
              "      <td>Fawdrie</td>\n",
              "      <td>Female</td>\n",
              "      <td>66</td>\n",
              "      <td>20.000000</td>\n",
              "      <td>VP Sales</td>\n",
              "      <td>Health</td>\n",
              "      <td>Mass Customer</td>\n",
              "      <td>Yes</td>\n",
              "      <td>4211</td>\n",
              "      <td>QLD</td>\n",
              "    </tr>\n",
              "    <tr>\n",
              "      <th>2</th>\n",
              "      <td>Simmonds</td>\n",
              "      <td>Bapty</td>\n",
              "      <td>Male</td>\n",
              "      <td>52</td>\n",
              "      <td>20.035616</td>\n",
              "      <td>Junior Executive</td>\n",
              "      <td>Financial Services</td>\n",
              "      <td>Affluent Customer</td>\n",
              "      <td>No</td>\n",
              "      <td>2025</td>\n",
              "      <td>NSW</td>\n",
              "    </tr>\n",
              "    <tr>\n",
              "      <th>3</th>\n",
              "      <td>Tomkin</td>\n",
              "      <td>Bernlin</td>\n",
              "      <td>Male</td>\n",
              "      <td>7</td>\n",
              "      <td>20.052055</td>\n",
              "      <td>Food Chemist</td>\n",
              "      <td>Health</td>\n",
              "      <td>Affluent Customer</td>\n",
              "      <td>Yes</td>\n",
              "      <td>2480</td>\n",
              "      <td>NSW</td>\n",
              "    </tr>\n",
              "    <tr>\n",
              "      <th>4</th>\n",
              "      <td>Burk</td>\n",
              "      <td>Wortley</td>\n",
              "      <td>Male</td>\n",
              "      <td>22</td>\n",
              "      <td>20.252055</td>\n",
              "      <td>Senior Sales Associate</td>\n",
              "      <td>Health</td>\n",
              "      <td>Mass Customer</td>\n",
              "      <td>No</td>\n",
              "      <td>2196</td>\n",
              "      <td>NSW</td>\n",
              "    </tr>\n",
              "  </tbody>\n",
              "</table>\n",
              "</div>"
            ],
            "text/plain": [
              "  first_name last_name  gender  past_3_years_bike_related_purchases  \\\n",
              "0  Giulietta   Garbott  Female                                   59   \n",
              "1       Lura   Fawdrie  Female                                   66   \n",
              "2   Simmonds     Bapty    Male                                   52   \n",
              "3     Tomkin   Bernlin    Male                                    7   \n",
              "4       Burk   Wortley    Male                                   22   \n",
              "\n",
              "         Age               job_title job_industry_category     wealth_segment  \\\n",
              "0  19.887671        Technical Writer                   NaN  Affluent Customer   \n",
              "1  20.000000                VP Sales                Health      Mass Customer   \n",
              "2  20.035616        Junior Executive    Financial Services  Affluent Customer   \n",
              "3  20.052055            Food Chemist                Health  Affluent Customer   \n",
              "4  20.252055  Senior Sales Associate                Health      Mass Customer   \n",
              "\n",
              "  owns_car  postcode state  \n",
              "0      Yes      3810   VIC  \n",
              "1      Yes      4211   QLD  \n",
              "2       No      2025   NSW  \n",
              "3      Yes      2480   NSW  \n",
              "4       No      2196   NSW  "
            ]
          },
          "execution_count": 23,
          "metadata": {},
          "output_type": "execute_result"
        }
      ],
      "source": [
        "df3.head()"
      ]
    },
    {
      "cell_type": "code",
      "execution_count": 24,
      "metadata": {
        "colab": {
          "base_uri": "https://localhost:8080/"
        },
        "id": "6orugZX-ttlQ",
        "outputId": "ec18b07c-f134-46f5-a19d-df0ba95edcab"
      },
      "outputs": [
        {
          "name": "stdout",
          "output_type": "stream",
          "text": [
            "Index(['gender', 'past_3_years_bike_related_purchases', 'Age', 'job_title',\n",
            "       'job_industry_category', 'wealth_segment', 'owns_car', 'postcode',\n",
            "       'state'],\n",
            "      dtype='object')\n",
            "Index(['first_name', 'last_name', 'gender',\n",
            "       'past_3_years_bike_related_purchases', 'Age', 'job_title',\n",
            "       'job_industry_category', 'wealth_segment', 'owns_car', 'postcode',\n",
            "       'state'],\n",
            "      dtype='object')\n"
          ]
        }
      ],
      "source": [
        "print(df.columns)\n",
        "print(df3.columns)"
      ]
    },
    {
      "cell_type": "code",
      "execution_count": 25,
      "metadata": {
        "colab": {
          "base_uri": "https://localhost:8080/"
        },
        "id": "SNuNPkIUssSB",
        "outputId": "562ac330-7ed2-41f9-b8e4-395b1e1f866c"
      },
      "outputs": [
        {
          "data": {
            "text/plain": [
              "first_name                               0\n",
              "last_name                               29\n",
              "gender                                   0\n",
              "past_3_years_bike_related_purchases      0\n",
              "Age                                     17\n",
              "job_title                              106\n",
              "job_industry_category                  165\n",
              "wealth_segment                           0\n",
              "owns_car                                 0\n",
              "postcode                                 0\n",
              "state                                    0\n",
              "dtype: int64"
            ]
          },
          "execution_count": 25,
          "metadata": {},
          "output_type": "execute_result"
        }
      ],
      "source": [
        "df3.isnull().sum()"
      ]
    },
    {
      "cell_type": "code",
      "execution_count": 26,
      "metadata": {
        "id": "9no6N1hUa9MZ"
      },
      "outputs": [],
      "source": [
        "import matplotlib.pyplot as plt\n",
        "%matplotlib inline"
      ]
    },
    {
      "cell_type": "code",
      "execution_count": 27,
      "metadata": {
        "id": "MmY9WkHPeirg"
      },
      "outputs": [],
      "source": [
        "data=df[:20]"
      ]
    },
    {
      "cell_type": "code",
      "execution_count": 28,
      "metadata": {
        "colab": {
          "base_uri": "https://localhost:8080/"
        },
        "id": "8zCm4zNAezuT",
        "outputId": "56208f8c-0e59-4157-ab21-7aa710d8b493"
      },
      "outputs": [
        {
          "data": {
            "text/plain": [
              "gender                                  object\n",
              "past_3_years_bike_related_purchases      int64\n",
              "Age                                      int64\n",
              "job_title                               object\n",
              "job_industry_category                   object\n",
              "wealth_segment                          object\n",
              "owns_car                                object\n",
              "postcode                               float64\n",
              "state                                   object\n",
              "dtype: object"
            ]
          },
          "execution_count": 28,
          "metadata": {},
          "output_type": "execute_result"
        }
      ],
      "source": [
        "df.dtypes"
      ]
    },
    {
      "cell_type": "code",
      "execution_count": 29,
      "metadata": {
        "id": "bq7xSxCBe0nR"
      },
      "outputs": [],
      "source": [
        "import seaborn as sns\n",
        "data=df[:20]"
      ]
    },
    {
      "cell_type": "code",
      "execution_count": 30,
      "metadata": {
        "colab": {
          "base_uri": "https://localhost:8080/",
          "height": 296
        },
        "id": "ucl6KmmKfoIm",
        "outputId": "f8ffb68b-1e44-4ed6-dbca-7696dfcad4cb"
      },
      "outputs": [
        {
          "data": {
            "text/plain": [
              "<Axes: xlabel='Age', ylabel='past_3_years_bike_related_purchases'>"
            ]
          },
          "execution_count": 30,
          "metadata": {},
          "output_type": "execute_result"
        },
        {
          "data": {
            "image/png": "[encoded data removed]",
            "text/plain": [
              "<Figure size 640x480 with 1 Axes>"
            ]
          },
          "metadata": {},
          "output_type": "display_data"
        }
      ],
      "source": [
        "sns.barplot(x=data['Age'],y=data['past_3_years_bike_related_purchases'],linewidth=10)\n"
      ]
    },
    {
      "cell_type": "code",
      "execution_count": 31,
      "metadata": {
        "colab": {
          "base_uri": "https://localhost:8080/",
          "height": 296
        },
        "id": "ZxvsJ86_hVWO",
        "outputId": "0742c3d5-2d93-422d-cf8b-214742f8c44d"
      },
      "outputs": [
        {
          "data": {
            "text/plain": [
              "<Axes: xlabel='owns_car', ylabel='past_3_years_bike_related_purchases'>"
            ]
          },
          "execution_count": 31,
          "metadata": {},
          "output_type": "execute_result"
        },
        {
          "data": {
            "image/png": "[encoded data removed]",
            "text/plain": [
              "<Figure size 640x480 with 1 Axes>"
            ]
          },
          "metadata": {},
          "output_type": "display_data"
        }
      ],
      "source": [
        "sns.barplot(x=data['owns_car'],y=data['past_3_years_bike_related_purchases'])"
      ]
    },
    {
      "cell_type": "code",
      "execution_count": 32,
      "metadata": {
        "id": "Zb69EFKvhmok"
      },
      "outputs": [],
      "source": [
        "check=df.loc[df['owns_car']=='Yes']\n",
        "check=check[['job_title','wealth_segment','owns_car','past_3_years_bike_related_purchases']]\n",
        "check=check.set_index('wealth_segment')"
      ]
    },
    {
      "cell_type": "code",
      "execution_count": 33,
      "metadata": {
        "colab": {
          "base_uri": "https://localhost:8080/",
          "height": 297
        },
        "id": "GAAoYglih0fz",
        "outputId": "6c5c6299-3789-43d2-f760-03685e9d260c"
      },
      "outputs": [
        {
          "data": {
            "text/plain": [
              "<Axes: xlabel='wealth_segment'>"
            ]
          },
          "execution_count": 33,
          "metadata": {},
          "output_type": "execute_result"
        },
        {
          "data": {
            "image/png": "[encoded data removed]",
            "text/plain": [
              "<Figure size 640x480 with 1 Axes>"
            ]
          },
          "metadata": {},
          "output_type": "display_data"
        }
      ],
      "source": [
        "sns.lineplot(data=check[:20])"
      ]
    },
    {
      "cell_type": "code",
      "execution_count": 34,
      "metadata": {
        "colab": {
          "base_uri": "https://localhost:8080/"
        },
        "id": "FtBQjfWXjZhH",
        "outputId": "c864681f-1420-4b39-aa87-85494c8780e3"
      },
      "outputs": [
        {
          "data": {
            "text/plain": [
              "gender                                  object\n",
              "past_3_years_bike_related_purchases      int64\n",
              "Age                                      int64\n",
              "job_title                               object\n",
              "job_industry_category                   object\n",
              "wealth_segment                          object\n",
              "owns_car                                object\n",
              "postcode                               float64\n",
              "state                                   object\n",
              "dtype: object"
            ]
          },
          "execution_count": 34,
          "metadata": {},
          "output_type": "execute_result"
        }
      ],
      "source": [
        "df.dtypes"
      ]
    },
    {
      "cell_type": "code",
      "execution_count": 35,
      "metadata": {
        "colab": {
          "base_uri": "https://localhost:8080/",
          "height": 296
        },
        "id": "pe2hzU1FkON1",
        "outputId": "91961f3d-16f8-4960-b89f-4c6735ad0245"
      },
      "outputs": [
        {
          "data": {
            "text/plain": [
              "<Axes: xlabel='Age', ylabel='past_3_years_bike_related_purchases'>"
            ]
          },
          "execution_count": 35,
          "metadata": {},
          "output_type": "execute_result"
        },
        {
          "data": {
            "image/png": "[encoded data removed]",
            "text/plain": [
              "<Figure size 640x480 with 1 Axes>"
            ]
          },
          "metadata": {},
          "output_type": "display_data"
        }
      ],
      "source": [
        "sns.regplot(x=df['Age'],y=df['past_3_years_bike_related_purchases'])"
      ]
    },
    {
      "cell_type": "code",
      "execution_count": 36,
      "metadata": {
        "colab": {
          "base_uri": "https://localhost:8080/",
          "height": 351
        },
        "id": "B0snEiRykXhg",
        "outputId": "0ac9c80d-fec5-4b4d-9ff9-348b3e64d379"
      },
      "outputs": [
        {
          "ename": "TypeError",
          "evalue": "barplot() takes from 0 to 1 positional arguments but 2 were given",
          "output_type": "error",
          "traceback": [
            "\u001b[1;31m---------------------------------------------------------------------------\u001b[0m",
            "\u001b[1;31mTypeError\u001b[0m                                 Traceback (most recent call last)",
            "\u001b[1;32mc:\\Users\\hooda\\Desktop\\forage\\KPMG\\KPMG_Data_Analytics_Task_2.ipynb Cell 34\u001b[0m line \u001b[0;36m1\n\u001b[1;32m----> <a href='vscode-notebook-cell:/c%3A/Users/hooda/Desktop/forage/KPMG/KPMG_Data_Analytics_Task_2.ipynb#X45sZmlsZQ%3D%3D?line=0'>1</a>\u001b[0m sns\u001b[39m.\u001b[39;49mbarplot(df[\u001b[39m'\u001b[39;49m\u001b[39mstate\u001b[39;49m\u001b[39m'\u001b[39;49m],df[\u001b[39m'\u001b[39;49m\u001b[39mpast_3_years_bike_related_purchases\u001b[39;49m\u001b[39m'\u001b[39;49m])\n",
            "\u001b[1;31mTypeError\u001b[0m: barplot() takes from 0 to 1 positional arguments but 2 were given"
          ]
        }
      ],
      "source": [
        "sns.barplot(df['state'],df['past_3_years_bike_related_purchases'])"
      ]
    },
    {
      "cell_type": "code",
      "execution_count": null,
      "metadata": {
        "colab": {
          "base_uri": "https://localhost:8080/",
          "height": 352
        },
        "id": "ub3wyprWkn_M",
        "outputId": "7937a4de-099e-43ed-cc87-79aa1c764662"
      },
      "outputs": [
        {
          "name": "stderr",
          "output_type": "stream",
          "text": [
            "/usr/local/lib/python3.7/dist-packages/seaborn/_decorators.py:43: FutureWarning: Pass the following variables as keyword args: x, y. From version 0.12, the only valid positional argument will be `data`, and passing other arguments without an explicit keyword will result in an error or misinterpretation.\n",
            "  FutureWarning\n"
          ]
        },
        {
          "data": {
            "text/plain": [
              "<matplotlib.axes._subplots.AxesSubplot at 0x7f26a600bf10>"
            ]
          },
          "execution_count": 243,
          "metadata": {},
          "output_type": "execute_result"
        },
        {
          "data": {
            "image/png": "[encoded data removed]",
            "text/plain": [
              "<Figure size 432x288 with 1 Axes>"
            ]
          },
          "metadata": {
            "needs_background": "light"
          },
          "output_type": "display_data"
        }
      ],
      "source": [
        "sns.barplot(df['wealth_segment'],df['past_3_years_bike_related_purchases'])"
      ]
    },
    {
      "cell_type": "code",
      "execution_count": null,
      "metadata": {
        "colab": {
          "base_uri": "https://localhost:8080/",
          "height": 1000
        },
        "id": "TZt7-1YXmOFa",
        "outputId": "4bba3806-224b-4a05-a042-4595a3147e74"
      },
      "outputs": [
        {
          "data": {
            "text/html": [
              "\n",
              "  <div id=\"df-43992f17-b696-4a20-b83f-43aff885d496\">\n",
              "    <div class=\"colab-df-container\">\n",
              "      <div>\n",
              "<style scoped>\n",
              "    .dataframe tbody tr th:only-of-type {\n",
              "        vertical-align: middle;\n",
              "    }\n",
              "\n",
              "    .dataframe tbody tr th {\n",
              "        vertical-align: top;\n",
              "    }\n",
              "\n",
              "    .dataframe thead th {\n",
              "        text-align: right;\n",
              "    }\n",
              "</style>\n",
              "<table border=\"1\" class=\"dataframe\">\n",
              "  <thead>\n",
              "    <tr style=\"text-align: right;\">\n",
              "      <th></th>\n",
              "      <th>first_name</th>\n",
              "      <th>last_name</th>\n",
              "      <th>gender</th>\n",
              "      <th>past_3_years_bike_related_purchases</th>\n",
              "      <th>Age</th>\n",
              "      <th>job_title</th>\n",
              "      <th>job_industry_category</th>\n",
              "      <th>wealth_segment</th>\n",
              "      <th>owns_car</th>\n",
              "      <th>postcode</th>\n",
              "      <th>state</th>\n",
              "    </tr>\n",
              "  </thead>\n",
              "  <tbody>\n",
              "    <tr>\n",
              "      <th>0</th>\n",
              "      <td>Giulietta</td>\n",
              "      <td>Garbott</td>\n",
              "      <td>Female</td>\n",
              "      <td>59</td>\n",
              "      <td>19.887671</td>\n",
              "      <td>Technical Writer</td>\n",
              "      <td>NaN</td>\n",
              "      <td>Affluent Customer</td>\n",
              "      <td>Yes</td>\n",
              "      <td>3810</td>\n",
              "      <td>VIC</td>\n",
              "    </tr>\n",
              "    <tr>\n",
              "      <th>1</th>\n",
              "      <td>Lura</td>\n",
              "      <td>Fawdrie</td>\n",
              "      <td>Female</td>\n",
              "      <td>66</td>\n",
              "      <td>20.000000</td>\n",
              "      <td>VP Sales</td>\n",
              "      <td>Health</td>\n",
              "      <td>Mass Customer</td>\n",
              "      <td>Yes</td>\n",
              "      <td>4211</td>\n",
              "      <td>QLD</td>\n",
              "    </tr>\n",
              "    <tr>\n",
              "      <th>2</th>\n",
              "      <td>Simmonds</td>\n",
              "      <td>Bapty</td>\n",
              "      <td>Male</td>\n",
              "      <td>52</td>\n",
              "      <td>20.035616</td>\n",
              "      <td>Junior Executive</td>\n",
              "      <td>Financial Services</td>\n",
              "      <td>Affluent Customer</td>\n",
              "      <td>No</td>\n",
              "      <td>2025</td>\n",
              "      <td>NSW</td>\n",
              "    </tr>\n",
              "    <tr>\n",
              "      <th>3</th>\n",
              "      <td>Tomkin</td>\n",
              "      <td>Bernlin</td>\n",
              "      <td>Male</td>\n",
              "      <td>7</td>\n",
              "      <td>20.052055</td>\n",
              "      <td>Food Chemist</td>\n",
              "      <td>Health</td>\n",
              "      <td>Affluent Customer</td>\n",
              "      <td>Yes</td>\n",
              "      <td>2480</td>\n",
              "      <td>NSW</td>\n",
              "    </tr>\n",
              "    <tr>\n",
              "      <th>4</th>\n",
              "      <td>Burk</td>\n",
              "      <td>Wortley</td>\n",
              "      <td>Male</td>\n",
              "      <td>22</td>\n",
              "      <td>20.252055</td>\n",
              "      <td>Senior Sales Associate</td>\n",
              "      <td>Health</td>\n",
              "      <td>Mass Customer</td>\n",
              "      <td>No</td>\n",
              "      <td>2196</td>\n",
              "      <td>NSW</td>\n",
              "    </tr>\n",
              "    <tr>\n",
              "      <th>5</th>\n",
              "      <td>Ailyn</td>\n",
              "      <td>Howgate</td>\n",
              "      <td>Female</td>\n",
              "      <td>66</td>\n",
              "      <td>20.306849</td>\n",
              "      <td>Electrical Engineer</td>\n",
              "      <td>Manufacturing</td>\n",
              "      <td>Mass Customer</td>\n",
              "      <td>Yes</td>\n",
              "      <td>4213</td>\n",
              "      <td>QLD</td>\n",
              "    </tr>\n",
              "    <tr>\n",
              "      <th>6</th>\n",
              "      <td>Moina</td>\n",
              "      <td>Rosenbaum</td>\n",
              "      <td>Female</td>\n",
              "      <td>50</td>\n",
              "      <td>20.454795</td>\n",
              "      <td>Graphic Designer</td>\n",
              "      <td>IT</td>\n",
              "      <td>Mass Customer</td>\n",
              "      <td>No</td>\n",
              "      <td>3109</td>\n",
              "      <td>VIC</td>\n",
              "    </tr>\n",
              "    <tr>\n",
              "      <th>7</th>\n",
              "      <td>Isa</td>\n",
              "      <td>Fominov</td>\n",
              "      <td>Male</td>\n",
              "      <td>75</td>\n",
              "      <td>20.575342</td>\n",
              "      <td>Physical Therapy Assistant</td>\n",
              "      <td>NaN</td>\n",
              "      <td>Mass Customer</td>\n",
              "      <td>Yes</td>\n",
              "      <td>2010</td>\n",
              "      <td>NSW</td>\n",
              "    </tr>\n",
              "    <tr>\n",
              "      <th>8</th>\n",
              "      <td>Melosa</td>\n",
              "      <td>McOwan</td>\n",
              "      <td>Female</td>\n",
              "      <td>25</td>\n",
              "      <td>20.753425</td>\n",
              "      <td>Compensation Analyst</td>\n",
              "      <td>Financial Services</td>\n",
              "      <td>Mass Customer</td>\n",
              "      <td>No</td>\n",
              "      <td>2211</td>\n",
              "      <td>NSW</td>\n",
              "    </tr>\n",
              "    <tr>\n",
              "      <th>9</th>\n",
              "      <td>Tomaso</td>\n",
              "      <td>Horsley</td>\n",
              "      <td>Male</td>\n",
              "      <td>97</td>\n",
              "      <td>20.756164</td>\n",
              "      <td>Junior Executive</td>\n",
              "      <td>Financial Services</td>\n",
              "      <td>Mass Customer</td>\n",
              "      <td>Yes</td>\n",
              "      <td>3977</td>\n",
              "      <td>VIC</td>\n",
              "    </tr>\n",
              "    <tr>\n",
              "      <th>10</th>\n",
              "      <td>Isak</td>\n",
              "      <td>Bergstram</td>\n",
              "      <td>Male</td>\n",
              "      <td>14</td>\n",
              "      <td>20.863014</td>\n",
              "      <td>Pharmacist</td>\n",
              "      <td>Health</td>\n",
              "      <td>Affluent Customer</td>\n",
              "      <td>Yes</td>\n",
              "      <td>2176</td>\n",
              "      <td>NSW</td>\n",
              "    </tr>\n",
              "    <tr>\n",
              "      <th>11</th>\n",
              "      <td>Aundrea</td>\n",
              "      <td>Outridge</td>\n",
              "      <td>Female</td>\n",
              "      <td>77</td>\n",
              "      <td>20.980822</td>\n",
              "      <td>Structural Engineer</td>\n",
              "      <td>Financial Services</td>\n",
              "      <td>Affluent Customer</td>\n",
              "      <td>Yes</td>\n",
              "      <td>3186</td>\n",
              "      <td>VIC</td>\n",
              "    </tr>\n",
              "    <tr>\n",
              "      <th>12</th>\n",
              "      <td>Norah</td>\n",
              "      <td>Mapis</td>\n",
              "      <td>Female</td>\n",
              "      <td>75</td>\n",
              "      <td>21.106849</td>\n",
              "      <td>Assistant Manager</td>\n",
              "      <td>Argiculture</td>\n",
              "      <td>Mass Customer</td>\n",
              "      <td>No</td>\n",
              "      <td>2263</td>\n",
              "      <td>NSW</td>\n",
              "    </tr>\n",
              "    <tr>\n",
              "      <th>13</th>\n",
              "      <td>Tanya</td>\n",
              "      <td>Hamberston</td>\n",
              "      <td>Female</td>\n",
              "      <td>45</td>\n",
              "      <td>21.312329</td>\n",
              "      <td>Product Engineer</td>\n",
              "      <td>NaN</td>\n",
              "      <td>Mass Customer</td>\n",
              "      <td>Yes</td>\n",
              "      <td>4113</td>\n",
              "      <td>QLD</td>\n",
              "    </tr>\n",
              "    <tr>\n",
              "      <th>14</th>\n",
              "      <td>Hersh</td>\n",
              "      <td>Stubbert</td>\n",
              "      <td>Male</td>\n",
              "      <td>0</td>\n",
              "      <td>21.564384</td>\n",
              "      <td>Technical Writer</td>\n",
              "      <td>Manufacturing</td>\n",
              "      <td>Mass Customer</td>\n",
              "      <td>Yes</td>\n",
              "      <td>4115</td>\n",
              "      <td>QLD</td>\n",
              "    </tr>\n",
              "    <tr>\n",
              "      <th>15</th>\n",
              "      <td>Kissie</td>\n",
              "      <td>Line</td>\n",
              "      <td>Female</td>\n",
              "      <td>2</td>\n",
              "      <td>21.663014</td>\n",
              "      <td>Environmental Tech</td>\n",
              "      <td>Manufacturing</td>\n",
              "      <td>Affluent Customer</td>\n",
              "      <td>Yes</td>\n",
              "      <td>2200</td>\n",
              "      <td>NSW</td>\n",
              "    </tr>\n",
              "    <tr>\n",
              "      <th>16</th>\n",
              "      <td>Evangelin</td>\n",
              "      <td>Boc</td>\n",
              "      <td>Female</td>\n",
              "      <td>30</td>\n",
              "      <td>21.693151</td>\n",
              "      <td>Structural Analysis Engineer</td>\n",
              "      <td>Manufacturing</td>\n",
              "      <td>High Net Worth</td>\n",
              "      <td>Yes</td>\n",
              "      <td>3173</td>\n",
              "      <td>VIC</td>\n",
              "    </tr>\n",
              "    <tr>\n",
              "      <th>17</th>\n",
              "      <td>Shaw</td>\n",
              "      <td>MacEvilly</td>\n",
              "      <td>Male</td>\n",
              "      <td>10</td>\n",
              "      <td>21.701370</td>\n",
              "      <td>Software Test Engineer III</td>\n",
              "      <td>Health</td>\n",
              "      <td>Affluent Customer</td>\n",
              "      <td>No</td>\n",
              "      <td>2768</td>\n",
              "      <td>NSW</td>\n",
              "    </tr>\n",
              "    <tr>\n",
              "      <th>18</th>\n",
              "      <td>Cristie</td>\n",
              "      <td>Bence</td>\n",
              "      <td>Female</td>\n",
              "      <td>49</td>\n",
              "      <td>21.753425</td>\n",
              "      <td>Automation Specialist II</td>\n",
              "      <td>NaN</td>\n",
              "      <td>High Net Worth</td>\n",
              "      <td>No</td>\n",
              "      <td>4122</td>\n",
              "      <td>QLD</td>\n",
              "    </tr>\n",
              "    <tr>\n",
              "      <th>19</th>\n",
              "      <td>Rand</td>\n",
              "      <td>Winchcum</td>\n",
              "      <td>Male</td>\n",
              "      <td>34</td>\n",
              "      <td>21.772603</td>\n",
              "      <td>Software Consultant</td>\n",
              "      <td>NaN</td>\n",
              "      <td>Affluent Customer</td>\n",
              "      <td>No</td>\n",
              "      <td>2146</td>\n",
              "      <td>NSW</td>\n",
              "    </tr>\n",
              "  </tbody>\n",
              "</table>\n",
              "</div>\n",
              "      <button class=\"colab-df-convert\" onclick=\"convertToInteractive('df-43992f17-b696-4a20-b83f-43aff885d496')\"\n",
              "              title=\"Convert this dataframe to an interactive table.\"\n",
              "              style=\"display:none;\">\n",
              "        \n",
              "  <svg xmlns=\"http://www.w3.org/2000/svg\" height=\"24px\"viewBox=\"0 0 24 24\"\n",
              "       width=\"24px\">\n",
              "    <path d=\"M0 0h24v24H0V0z\" fill=\"none\"/>\n",
              "    <path d=\"M18.56 5.44l.94 2.06.94-2.06 2.06-.94-2.06-.94-.94-2.06-.94 2.06-2.06.94zm-11 1L8.5 8.5l.94-2.06 2.06-.94-2.06-.94L8.5 2.5l-.94 2.06-2.06.94zm10 10l.94 2.06.94-2.06 2.06-.94-2.06-.94-.94-2.06-.94 2.06-2.06.94z\"/><path d=\"M17.41 7.96l-1.37-1.37c-.4-.4-.92-.59-1.43-.59-.52 0-1.04.2-1.43.59L10.3 9.45l-7.72 7.72c-.78.78-.78 2.05 0 2.83L4 21.41c.39.39.9.59 1.41.59.51 0 1.02-.2 1.41-.59l7.78-7.78 2.81-2.81c.8-.78.8-2.07 0-2.86zM5.41 20L4 18.59l7.72-7.72 1.47 1.35L5.41 20z\"/>\n",
              "  </svg>\n",
              "      </button>\n",
              "      \n",
              "  <style>\n",
              "    .colab-df-container {\n",
              "      display:flex;\n",
              "      flex-wrap:wrap;\n",
              "      gap: 12px;\n",
              "    }\n",
              "\n",
              "    .colab-df-convert {\n",
              "      background-color: #E8F0FE;\n",
              "      border: none;\n",
              "      border-radius: 50%;\n",
              "      cursor: pointer;\n",
              "      display: none;\n",
              "      fill: #1967D2;\n",
              "      height: 32px;\n",
              "      padding: 0 0 0 0;\n",
              "      width: 32px;\n",
              "    }\n",
              "\n",
              "    .colab-df-convert:hover {\n",
              "      background-color: #E2EBFA;\n",
              "      box-shadow: 0px 1px 2px rgba(60, 64, 67, 0.3), 0px 1px 3px 1px rgba(60, 64, 67, 0.15);\n",
              "      fill: #174EA6;\n",
              "    }\n",
              "\n",
              "    [theme=dark] .colab-df-convert {\n",
              "      background-color: #3B4455;\n",
              "      fill: #D2E3FC;\n",
              "    }\n",
              "\n",
              "    [theme=dark] .colab-df-convert:hover {\n",
              "      background-color: #434B5C;\n",
              "      box-shadow: 0px 1px 3px 1px rgba(0, 0, 0, 0.15);\n",
              "      filter: drop-shadow(0px 1px 2px rgba(0, 0, 0, 0.3));\n",
              "      fill: #FFFFFF;\n",
              "    }\n",
              "  </style>\n",
              "\n",
              "      <script>\n",
              "        const buttonEl =\n",
              "          document.querySelector('#df-43992f17-b696-4a20-b83f-43aff885d496 button.colab-df-convert');\n",
              "        buttonEl.style.display =\n",
              "          google.colab.kernel.accessAllowed ? 'block' : 'none';\n",
              "\n",
              "        async function convertToInteractive(key) {\n",
              "          const element = document.querySelector('#df-43992f17-b696-4a20-b83f-43aff885d496');\n",
              "          const dataTable =\n",
              "            await google.colab.kernel.invokeFunction('convertToInteractive',\n",
              "                                                     [key], {});\n",
              "          if (!dataTable) return;\n",
              "\n",
              "          const docLinkHtml = 'Like what you see? Visit the ' +\n",
              "            '<a target=\"_blank\" href=https://colab.research.google.com/notebooks/data_table.ipynb>data table notebook</a>'\n",
              "            + ' to learn more about interactive tables.';\n",
              "          element.innerHTML = '';\n",
              "          dataTable['output_type'] = 'display_data';\n",
              "          await google.colab.output.renderOutput(dataTable, element);\n",
              "          const docLink = document.createElement('div');\n",
              "          docLink.innerHTML = docLinkHtml;\n",
              "          element.appendChild(docLink);\n",
              "        }\n",
              "      </script>\n",
              "    </div>\n",
              "  </div>\n",
              "  "
            ],
            "text/plain": [
              "   first_name   last_name  gender  ...  owns_car  postcode state\n",
              "0   Giulietta     Garbott  Female  ...       Yes      3810   VIC\n",
              "1        Lura     Fawdrie  Female  ...       Yes      4211   QLD\n",
              "2    Simmonds       Bapty    Male  ...        No      2025   NSW\n",
              "3      Tomkin     Bernlin    Male  ...       Yes      2480   NSW\n",
              "4        Burk     Wortley    Male  ...        No      2196   NSW\n",
              "5       Ailyn     Howgate  Female  ...       Yes      4213   QLD\n",
              "6       Moina   Rosenbaum  Female  ...        No      3109   VIC\n",
              "7         Isa     Fominov    Male  ...       Yes      2010   NSW\n",
              "8      Melosa      McOwan  Female  ...        No      2211   NSW\n",
              "9      Tomaso     Horsley    Male  ...       Yes      3977   VIC\n",
              "10       Isak   Bergstram    Male  ...       Yes      2176   NSW\n",
              "11    Aundrea    Outridge  Female  ...       Yes      3186   VIC\n",
              "12      Norah       Mapis  Female  ...        No      2263   NSW\n",
              "13      Tanya  Hamberston  Female  ...       Yes      4113   QLD\n",
              "14      Hersh    Stubbert    Male  ...       Yes      4115   QLD\n",
              "15     Kissie        Line  Female  ...       Yes      2200   NSW\n",
              "16  Evangelin         Boc  Female  ...       Yes      3173   VIC\n",
              "17       Shaw   MacEvilly    Male  ...        No      2768   NSW\n",
              "18    Cristie       Bence  Female  ...        No      4122   QLD\n",
              "19       Rand    Winchcum    Male  ...        No      2146   NSW\n",
              "\n",
              "[20 rows x 11 columns]"
            ]
          },
          "execution_count": 244,
          "metadata": {},
          "output_type": "execute_result"
        }
      ],
      "source": [
        "df3[:20]"
      ]
    },
    {
      "cell_type": "code",
      "execution_count": null,
      "metadata": {
        "id": "QdrWEMaKmZJK"
      },
      "outputs": [],
      "source": [
        "male=0;\n",
        "female=0;\n",
        "U=0\n",
        "for i in df3['gender']:\n",
        "  if i=='Male':\n",
        "    male=male+1;\n",
        "  elif i=='Female':\n",
        "    female=female+1;\n",
        "  else:\n",
        "    U=U+1;\n"
      ]
    },
    {
      "cell_type": "code",
      "execution_count": null,
      "metadata": {
        "id": "FeVG1gZQB_lz"
      },
      "outputs": [],
      "source": [
        "male1=0;\n",
        "female1=0;\n",
        "U1=0\n",
        "for i in df['gender']:\n",
        "  if i=='Male':\n",
        "    male1=male1+1;\n",
        "  elif i=='Female':\n",
        "    female1=female1+1;\n",
        "  else:\n",
        "    U1=U1+1;"
      ]
    },
    {
      "cell_type": "code",
      "execution_count": null,
      "metadata": {
        "colab": {
          "base_uri": "https://localhost:8080/"
        },
        "id": "YX5LY0f5CF6a",
        "outputId": "3a108d33-2c1b-4aa1-efe6-c898f4d3b385"
      },
      "outputs": [
        {
          "name": "stdout",
          "output_type": "stream",
          "text": [
            "1380\n",
            "1482\n",
            "1\n",
            "2863\n",
            "3.5277680754453375  %\n"
          ]
        }
      ],
      "source": [
        "print(male1)\n",
        "print(female1)\n",
        "print(U1)\n",
        "print(male1+female1+U1)\n",
        "print(((1482-1381)/2863) * 100, \" %\")"
      ]
    },
    {
      "cell_type": "code",
      "execution_count": null,
      "metadata": {
        "colab": {
          "base_uri": "https://localhost:8080/"
        },
        "id": "8sr-ss6VoTIH",
        "outputId": "58f71f9f-56df-462a-a1bd-5442f5b10d07"
      },
      "outputs": [
        {
          "name": "stdout",
          "output_type": "stream",
          "text": [
            "470\n",
            "513\n",
            "17\n",
            "1000\n"
          ]
        }
      ],
      "source": [
        "print(male)\n",
        "print(female)\n",
        "print(U)\n",
        "print(male+female+U)"
      ]
    },
    {
      "cell_type": "code",
      "execution_count": null,
      "metadata": {
        "colab": {
          "base_uri": "https://localhost:8080/",
          "height": 337
        },
        "id": "0fIW3SHWocya",
        "outputId": "dc1ad491-1831-4b48-f27d-1c72a6e48445"
      },
      "outputs": [
        {
          "name": "stderr",
          "output_type": "stream",
          "text": [
            "/usr/local/lib/python3.7/dist-packages/seaborn/_decorators.py:43: FutureWarning: Pass the following variables as keyword args: x, y. From version 0.12, the only valid positional argument will be `data`, and passing other arguments without an explicit keyword will result in an error or misinterpretation.\n",
            "  FutureWarning\n"
          ]
        },
        {
          "data": {
            "text/plain": [
              "<matplotlib.axes._subplots.AxesSubplot at 0x7f26a5f92150>"
            ]
          },
          "execution_count": 249,
          "metadata": {},
          "output_type": "execute_result"
        },
        {
          "data": {
            "image/png": "[encoded data removed]",
            "text/plain": [
              "<Figure size 432x288 with 1 Axes>"
            ]
          },
          "metadata": {
            "needs_background": "light"
          },
          "output_type": "display_data"
        }
      ],
      "source": [
        "x=['Male','Female','U']\n",
        "y=[male,female,U]\n",
        "sns.barplot(x,y)\n",
        "\n",
        "  "
      ]
    },
    {
      "cell_type": "code",
      "execution_count": null,
      "metadata": {
        "id": "0zrHQpSUor0G"
      },
      "outputs": [],
      "source": [
        "dt={}\n",
        "for i in df['job_title']:\n",
        "  if (i in dt):\n",
        "    dt[i]+=1\n",
        "  else:\n",
        "    dt[i]=1"
      ]
    },
    {
      "cell_type": "code",
      "execution_count": null,
      "metadata": {
        "colab": {
          "base_uri": "https://localhost:8080/"
        },
        "id": "b_6VNBT_pgFs",
        "outputId": "22496a64-bd81-4135-9606-4d795a5397fc"
      },
      "outputs": [
        {
          "name": "stdout",
          "output_type": "stream",
          "text": [
            "42\n",
            "38\n",
            "37\n",
            "37\n",
            "36\n",
            "36\n",
            "35\n",
            "35\n",
            "34\n",
            "34\n",
            "34\n",
            "34\n",
            "33\n",
            "32\n",
            "32\n",
            "32\n",
            "32\n",
            "31\n",
            "31\n",
            "31\n",
            "30\n",
            "30\n",
            "30\n",
            "29\n",
            "29\n",
            "29\n",
            "29\n",
            "29\n",
            "28\n",
            "28\n",
            "27\n",
            "27\n",
            "27\n",
            "27\n",
            "27\n",
            "26\n",
            "26\n",
            "26\n",
            "26\n",
            "26\n",
            "25\n",
            "25\n",
            "25\n",
            "25\n",
            "25\n",
            "24\n",
            "24\n",
            "24\n",
            "24\n",
            "23\n",
            "23\n",
            "23\n",
            "23\n",
            "23\n",
            "23\n",
            "23\n",
            "23\n",
            "23\n",
            "22\n",
            "22\n",
            "22\n",
            "22\n",
            "21\n",
            "21\n",
            "21\n",
            "21\n",
            "20\n",
            "20\n",
            "20\n",
            "20\n",
            "20\n",
            "20\n",
            "19\n",
            "19\n",
            "19\n",
            "19\n",
            "19\n",
            "18\n",
            "18\n",
            "17\n",
            "17\n",
            "17\n",
            "17\n",
            "17\n",
            "14\n",
            "13\n",
            "13\n",
            "12\n",
            "12\n",
            "12\n",
            "12\n",
            "12\n",
            "11\n",
            "10\n",
            "10\n",
            "10\n",
            "9\n",
            "9\n",
            "9\n",
            "9\n",
            "9\n",
            "8\n",
            "8\n",
            "8\n",
            "8\n",
            "8\n",
            "8\n",
            "8\n",
            "8\n",
            "8\n",
            "8\n",
            "8\n",
            "8\n",
            "8\n",
            "8\n",
            "8\n",
            "7\n",
            "7\n",
            "7\n",
            "7\n",
            "7\n",
            "7\n",
            "7\n",
            "7\n",
            "7\n",
            "7\n",
            "7\n",
            "7\n",
            "7\n",
            "7\n",
            "6\n",
            "6\n",
            "6\n",
            "6\n",
            "6\n",
            "6\n",
            "6\n",
            "6\n",
            "6\n",
            "6\n",
            "6\n",
            "5\n",
            "5\n",
            "5\n",
            "5\n",
            "5\n",
            "5\n",
            "5\n",
            "5\n",
            "5\n",
            "5\n",
            "5\n",
            "5\n",
            "5\n",
            "5\n",
            "5\n",
            "5\n",
            "5\n",
            "5\n",
            "5\n",
            "5\n",
            "4\n",
            "4\n",
            "4\n",
            "4\n",
            "4\n",
            "4\n",
            "4\n",
            "4\n",
            "4\n",
            "4\n",
            "4\n",
            "4\n",
            "4\n",
            "4\n",
            "4\n",
            "4\n",
            "4\n",
            "4\n",
            "4\n",
            "4\n",
            "4\n",
            "3\n",
            "3\n",
            "3\n",
            "3\n",
            "3\n",
            "3\n",
            "3\n",
            "2\n",
            "2\n",
            "2\n",
            "2\n",
            "1\n",
            "1\n"
          ]
        }
      ],
      "source": [
        "d=dt.values()\n",
        "d1=sorted(d)\n",
        "d2=reversed(d1)\n",
        "for i in d2:\n",
        "  print(i)"
      ]
    },
    {
      "cell_type": "code",
      "execution_count": null,
      "metadata": {
        "colab": {
          "base_uri": "https://localhost:8080/"
        },
        "id": "nA0x8rVlC3j3",
        "outputId": "beb42c3b-6f04-455c-baad-fef503d22382"
      },
      "outputs": [
        {
          "name": "stdout",
          "output_type": "stream",
          "text": [
            "Developer I\n",
            "Social Worker\n",
            "Chemical Engineer\n",
            "Dental Hygienist\n",
            "Sales Representative\n",
            "Database Administrator II\n",
            "Accounting Assistant IV\n",
            "Human Resources Assistant IV\n",
            "Programmer Analyst IV\n",
            "Research Assistant III\n"
          ]
        }
      ],
      "source": [
        "dt.items()\n",
        "i=0\n",
        "for key,value in dt.items():\n",
        "  if (value == 42 or value == 38 or value == 37 or value == 1 or value == 2):\n",
        "    print(key)\n",
        "    "
      ]
    },
    {
      "cell_type": "code",
      "execution_count": null,
      "metadata": {
        "colab": {
          "base_uri": "https://localhost:8080/",
          "height": 478
        },
        "id": "oYSDonesFvMz",
        "outputId": "bfb8d2bc-677e-4e40-dc50-477618f263fc"
      },
      "outputs": [
        {
          "name": "stderr",
          "output_type": "stream",
          "text": [
            "/usr/local/lib/python3.7/dist-packages/seaborn/_decorators.py:43: FutureWarning: Pass the following variables as keyword args: x, y. From version 0.12, the only valid positional argument will be `data`, and passing other arguments without an explicit keyword will result in an error or misinterpretation.\n",
            "  FutureWarning\n"
          ]
        },
        {
          "data": {
            "text/plain": [
              "Text(0, 0.5, 'Count')"
            ]
          },
          "execution_count": 253,
          "metadata": {},
          "output_type": "execute_result"
        },
        {
          "data": {
            "image/png": "[encoded data removed]",
            "text/plain": [
              "<Figure size 432x288 with 1 Axes>"
            ]
          },
          "metadata": {
            "needs_background": "light"
          },
          "output_type": "display_data"
        }
      ],
      "source": [
        "x=['Developer I',\n",
        "'Social Worker',\n",
        "'Chemical Engineer',\n",
        "'Dental Hygienist',\n",
        "'Sales Representative',\n",
        "'Database Administrator II',\n",
        "'Accounting Assistant IV',\n",
        "'Human Resources Assistant IV',\n",
        "'Programmer Analyst IV',\n",
        "'Research Assistant III']\n",
        "y=[dt['Social Worker'], dt['Chemical Engineer'], dt['Developer I'],\n",
        "dt['Dental Hygienist'],\n",
        "dt['Sales Representative'],dt['Database Administrator II'],\n",
        "dt['Accounting Assistant IV'],\n",
        "dt['Human Resources Assistant IV'],\n",
        "dt['Programmer Analyst IV'],\n",
        "dt['Research Assistant III']]\n",
        "sns.barplot(x,y)\n",
        "plt.xticks(rotation=60)\n",
        "plt.xlabel('Job Title')\n",
        "plt.ylabel('Count')"
      ]
    },
    {
      "cell_type": "code",
      "execution_count": null,
      "metadata": {
        "id": "PbE_WoncEGkl"
      },
      "outputs": [],
      "source": [
        "dt1={}\n",
        "for i in df3['job_title']:\n",
        "  if (i in dt1):\n",
        "    dt1[i]+=1\n",
        "  else:\n",
        "    dt1[i]=1"
      ]
    },
    {
      "cell_type": "code",
      "execution_count": null,
      "metadata": {
        "colab": {
          "base_uri": "https://localhost:8080/"
        },
        "id": "IM2_ek6rFKzX",
        "outputId": "368f1623-14f7-4ee6-e42e-6d229348fa31"
      },
      "outputs": [
        {
          "name": "stdout",
          "output_type": "stream",
          "text": [
            "106\n",
            "15\n",
            "14\n",
            "14\n",
            "13\n",
            "12\n",
            "12\n",
            "12\n",
            "12\n",
            "12\n",
            "11\n",
            "11\n",
            "11\n",
            "11\n",
            "11\n",
            "11\n",
            "11\n",
            "11\n",
            "10\n",
            "10\n",
            "10\n",
            "10\n",
            "10\n",
            "10\n",
            "10\n",
            "10\n",
            "9\n",
            "9\n",
            "9\n",
            "9\n",
            "9\n",
            "9\n",
            "9\n",
            "9\n",
            "9\n",
            "9\n",
            "9\n",
            "9\n",
            "9\n",
            "9\n",
            "8\n",
            "8\n",
            "8\n",
            "8\n",
            "8\n",
            "8\n",
            "8\n",
            "8\n",
            "7\n",
            "7\n",
            "7\n",
            "7\n",
            "7\n",
            "7\n",
            "7\n",
            "7\n",
            "7\n",
            "7\n",
            "7\n",
            "7\n",
            "7\n",
            "7\n",
            "6\n",
            "6\n",
            "6\n",
            "6\n",
            "6\n",
            "6\n",
            "6\n",
            "6\n",
            "6\n",
            "6\n",
            "6\n",
            "6\n",
            "6\n",
            "5\n",
            "5\n",
            "5\n",
            "5\n",
            "5\n",
            "5\n",
            "5\n",
            "5\n",
            "5\n",
            "5\n",
            "4\n",
            "4\n",
            "4\n",
            "4\n",
            "4\n",
            "4\n",
            "4\n",
            "4\n",
            "4\n",
            "4\n",
            "4\n",
            "3\n",
            "3\n",
            "3\n",
            "3\n",
            "3\n",
            "3\n",
            "3\n",
            "3\n",
            "3\n",
            "3\n",
            "3\n",
            "3\n",
            "3\n",
            "3\n",
            "3\n",
            "3\n",
            "3\n",
            "2\n",
            "2\n",
            "2\n",
            "2\n",
            "2\n",
            "2\n",
            "2\n",
            "2\n",
            "2\n",
            "2\n",
            "2\n",
            "2\n",
            "2\n",
            "2\n",
            "2\n",
            "2\n",
            "2\n",
            "2\n",
            "2\n",
            "2\n",
            "2\n",
            "2\n",
            "2\n",
            "2\n",
            "2\n",
            "2\n",
            "2\n",
            "1\n",
            "1\n",
            "1\n",
            "1\n",
            "1\n",
            "1\n",
            "1\n",
            "1\n",
            "1\n",
            "1\n",
            "1\n",
            "1\n",
            "1\n",
            "1\n",
            "1\n",
            "1\n",
            "1\n",
            "1\n",
            "1\n",
            "1\n",
            "1\n",
            "1\n",
            "1\n",
            "1\n",
            "1\n",
            "1\n",
            "1\n",
            "1\n",
            "1\n",
            "1\n",
            "1\n",
            "1\n",
            "1\n",
            "1\n",
            "1\n",
            "1\n",
            "1\n",
            "1\n",
            "1\n",
            "1\n",
            "1\n",
            "1\n",
            "1\n",
            "1\n",
            "1\n"
          ]
        }
      ],
      "source": [
        "f=dt1.values()\n",
        "f1=sorted(f)\n",
        "f2=reversed(f1)\n",
        "for i in f2:\n",
        "  print(i)"
      ]
    },
    {
      "cell_type": "code",
      "execution_count": null,
      "metadata": {
        "colab": {
          "base_uri": "https://localhost:8080/"
        },
        "id": "K9spxy8pFN3m",
        "outputId": "13b1c747-7852-4b22-eb6e-f6b69c9230fe"
      },
      "outputs": [
        {
          "name": "stdout",
          "output_type": "stream",
          "text": [
            "Environmental Tech\n",
            "Software Consultant\n",
            "Associate Professor\n"
          ]
        }
      ],
      "source": [
        "dt1.items()\n",
        "for key,value in dt1.items():\n",
        "  if (value == 15 or value == 14):\n",
        "    print(key)"
      ]
    },
    {
      "cell_type": "code",
      "execution_count": null,
      "metadata": {
        "colab": {
          "base_uri": "https://localhost:8080/"
        },
        "id": "hQdPRC4NFkXS",
        "outputId": "2f77ff0e-beae-45a1-f547-96f669e6890e"
      },
      "outputs": [
        {
          "name": "stdout",
          "output_type": "stream",
          "text": [
            "Dental Hygienist 10\n",
            "Sales Representative 8\n",
            "Social Worker 11\n",
            "Developer I 3\n"
          ]
        }
      ],
      "source": [
        "dt1.items()\n",
        "count=0\n",
        "for x,y in dt1.items():\n",
        "  if(x =='Developer I' or x=='Social Worker' or x=='Sales Representative' or x=='Dental Hygienist'):\n",
        "    print(x, y)"
      ]
    },
    {
      "cell_type": "code",
      "execution_count": null,
      "metadata": {
        "colab": {
          "base_uri": "https://localhost:8080/",
          "height": 384
        },
        "id": "Ea1aZXAHJMmI",
        "outputId": "e996f4cf-ad2a-40ea-acbd-8584670f7c17"
      },
      "outputs": [
        {
          "data": {
            "text/plain": [
              "Text(0.5, 1.0, 'New Customers')"
            ]
          },
          "execution_count": 258,
          "metadata": {},
          "output_type": "execute_result"
        },
        {
          "data": {
            "image/png": "[encoded data removed]",
            "text/plain": [
              "<Figure size 432x288 with 1 Axes>"
            ]
          },
          "metadata": {
            "needs_background": "light"
          },
          "output_type": "display_data"
        }
      ],
      "source": [
        "x=['Dental Hygienist',\n",
        "'Sales Representative',\n",
        "'Social Worker',\n",
        "'Developer I ']\n",
        "y=[10,8,11,3]\n",
        "plt.bar(x,y)\n",
        "plt.xticks(rotation=45)\n",
        "plt.xlabel('Job Title')\n",
        "plt.ylabel('Count')\n",
        "plt.title('New Customers')"
      ]
    },
    {
      "cell_type": "code",
      "execution_count": null,
      "metadata": {
        "colab": {
          "base_uri": "https://localhost:8080/",
          "height": 279
        },
        "id": "Cjp_-4FmJsyR",
        "outputId": "bd504853-63e9-4fa1-9837-d6bbff542c1b"
      },
      "outputs": [
        {
          "data": {
            "image/png": "[encoded data removed]",
            "text/plain": [
              "<Figure size 432x288 with 1 Axes>"
            ]
          },
          "metadata": {
            "needs_background": "light"
          },
          "output_type": "display_data"
        }
      ],
      "source": [
        "plots=sns.barplot(x=df3['wealth_segment'],y=df3['past_3_years_bike_related_purchases'])\n",
        "plt.ylabel('Bike Purchases')\n",
        "plt.xlabel('Wealth')\n",
        "for bar in plots.patches:\n",
        "  plots.annotate(format(bar.get_height(), '.2f'),\n",
        "                   (bar.get_x() + bar.get_width() / 2,\n",
        "                    bar.get_height()), ha='right', va='center',\n",
        "                   size=12, xytext=(0, 8),\n",
        "                   textcoords='offset points')"
      ]
    },
    {
      "cell_type": "code",
      "execution_count": null,
      "metadata": {
        "colab": {
          "base_uri": "https://localhost:8080/",
          "height": 758
        },
        "id": "xYKBQzsYLXCx",
        "outputId": "8179b70f-fedd-4958-8921-cc35d470e331"
      },
      "outputs": [
        {
          "data": {
            "text/plain": [
              "([<matplotlib.patches.Wedge at 0x7f26a5d9d410>,\n",
              "  <matplotlib.patches.Wedge at 0x7f26a5d9d810>,\n",
              "  <matplotlib.patches.Wedge at 0x7f26a5d9d8d0>,\n",
              "  <matplotlib.patches.Wedge at 0x7f26a5da6450>,\n",
              "  <matplotlib.patches.Wedge at 0x7f26a5da6750>,\n",
              "  <matplotlib.patches.Wedge at 0x7f26a5d33390>,\n",
              "  <matplotlib.patches.Wedge at 0x7f26a5d33090>,\n",
              "  <matplotlib.patches.Wedge at 0x7f26a5d33690>,\n",
              "  <matplotlib.patches.Wedge at 0x7f26a5da6510>,\n",
              "  <matplotlib.patches.Wedge at 0x7f26a5d330d0>],\n",
              " [Text(0.7627757653507069, 0.7925737390259934, 'Developer I'),\n",
              "  Text(-0.7474541010378708, 0.8070392597895523, 'Social Worker'),\n",
              "  Text(-1.0949582254803703, 0.10519735953377889, 'Chemical Engineer'),\n",
              "  Text(-0.8874351114723881, -0.6499684014827107, 'Dental Hygienist'),\n",
              "  Text(0.525491691956019, -0.9663635349521424, 'Sales Representative'),\n",
              "  Text(1.0421862166481628, -0.35192028902663325, 'Database Administrator II'),\n",
              "  Text(1.060678813797655, -0.291479765954345, 'Accounting Assistant IV'),\n",
              "  Text(1.0798791289807266, -0.20943033875689482, 'Human Resources Assistant IV'),\n",
              "  Text(1.0927422845118049, -0.12615189114683037, 'Programmer Analyst IV'),\n",
              "  Text(1.0991927942850466, -0.04213313413255149, 'Research Assistant III')])"
            ]
          },
          "execution_count": 260,
          "metadata": {},
          "output_type": "execute_result"
        },
        {
          "data": {
            "image/png": "[encoded data removed]",
            "text/plain": [
              "<Figure size 720x504 with 1 Axes>"
            ]
          },
          "metadata": {},
          "output_type": "display_data"
        }
      ],
      "source": [
        "x=['Developer I',\n",
        "'Social Worker',\n",
        "'Chemical Engineer',\n",
        "'Dental Hygienist',\n",
        "'Sales Representative',\n",
        "'Database Administrator II',\n",
        "'Accounting Assistant IV',\n",
        "'Human Resources Assistant IV',\n",
        "'Programmer Analyst IV',\n",
        "'Research Assistant III']\n",
        "y=[dt['Social Worker'], dt['Chemical Engineer'], dt['Developer I'],\n",
        "dt['Dental Hygienist'],\n",
        "dt['Sales Representative'],dt['Database Administrator II'],\n",
        "dt['Accounting Assistant IV'],\n",
        "dt['Human Resources Assistant IV'],\n",
        "dt['Programmer Analyst IV'],\n",
        "dt['Research Assistant III']]\n",
        "plt.figure(figsize =(10, 7))\n",
        "plt.pie(y, labels = x)"
      ]
    },
    {
      "cell_type": "code",
      "execution_count": null,
      "metadata": {
        "id": "XH-yFDWpQM5p"
      },
      "outputs": [],
      "source": [
        "df2=pd.read_excel('/content/Transactions.xlsx',skiprows=1)"
      ]
    },
    {
      "cell_type": "code",
      "execution_count": null,
      "metadata": {
        "colab": {
          "base_uri": "https://localhost:8080/",
          "height": 658
        },
        "id": "3SM30lBoQRYQ",
        "outputId": "d6d5e7ac-6f01-46aa-97ef-33a8ed04257e"
      },
      "outputs": [
        {
          "data": {
            "text/html": [
              "\n",
              "  <div id=\"df-08d68481-7741-460a-9090-1950565e140b\">\n",
              "    <div class=\"colab-df-container\">\n",
              "      <div>\n",
              "<style scoped>\n",
              "    .dataframe tbody tr th:only-of-type {\n",
              "        vertical-align: middle;\n",
              "    }\n",
              "\n",
              "    .dataframe tbody tr th {\n",
              "        vertical-align: top;\n",
              "    }\n",
              "\n",
              "    .dataframe thead th {\n",
              "        text-align: right;\n",
              "    }\n",
              "</style>\n",
              "<table border=\"1\" class=\"dataframe\">\n",
              "  <thead>\n",
              "    <tr style=\"text-align: right;\">\n",
              "      <th></th>\n",
              "      <th>transaction_id</th>\n",
              "      <th>product_id</th>\n",
              "      <th>transaction_date</th>\n",
              "      <th>online_order</th>\n",
              "      <th>order_status</th>\n",
              "      <th>brand</th>\n",
              "      <th>product_line</th>\n",
              "      <th>product_class</th>\n",
              "      <th>product_size</th>\n",
              "      <th>list_price</th>\n",
              "      <th>standard_cost</th>\n",
              "      <th>product_first_sold_date</th>\n",
              "    </tr>\n",
              "    <tr>\n",
              "      <th>customer_id</th>\n",
              "      <th></th>\n",
              "      <th></th>\n",
              "      <th></th>\n",
              "      <th></th>\n",
              "      <th></th>\n",
              "      <th></th>\n",
              "      <th></th>\n",
              "      <th></th>\n",
              "      <th></th>\n",
              "      <th></th>\n",
              "      <th></th>\n",
              "      <th></th>\n",
              "    </tr>\n",
              "  </thead>\n",
              "  <tbody>\n",
              "    <tr>\n",
              "      <th>2950</th>\n",
              "      <td>1</td>\n",
              "      <td>2</td>\n",
              "      <td>2017-02-25</td>\n",
              "      <td>0.0</td>\n",
              "      <td>Approved</td>\n",
              "      <td>Solex</td>\n",
              "      <td>Standard</td>\n",
              "      <td>medium</td>\n",
              "      <td>medium</td>\n",
              "      <td>71.49</td>\n",
              "      <td>53.62</td>\n",
              "      <td>41245.0</td>\n",
              "    </tr>\n",
              "    <tr>\n",
              "      <th>3120</th>\n",
              "      <td>2</td>\n",
              "      <td>3</td>\n",
              "      <td>2017-05-21</td>\n",
              "      <td>1.0</td>\n",
              "      <td>Approved</td>\n",
              "      <td>Trek Bicycles</td>\n",
              "      <td>Standard</td>\n",
              "      <td>medium</td>\n",
              "      <td>large</td>\n",
              "      <td>2091.47</td>\n",
              "      <td>388.92</td>\n",
              "      <td>41701.0</td>\n",
              "    </tr>\n",
              "    <tr>\n",
              "      <th>402</th>\n",
              "      <td>3</td>\n",
              "      <td>37</td>\n",
              "      <td>2017-10-16</td>\n",
              "      <td>0.0</td>\n",
              "      <td>Approved</td>\n",
              "      <td>OHM Cycles</td>\n",
              "      <td>Standard</td>\n",
              "      <td>low</td>\n",
              "      <td>medium</td>\n",
              "      <td>1793.43</td>\n",
              "      <td>248.82</td>\n",
              "      <td>36361.0</td>\n",
              "    </tr>\n",
              "    <tr>\n",
              "      <th>3135</th>\n",
              "      <td>4</td>\n",
              "      <td>88</td>\n",
              "      <td>2017-08-31</td>\n",
              "      <td>0.0</td>\n",
              "      <td>Approved</td>\n",
              "      <td>Norco Bicycles</td>\n",
              "      <td>Standard</td>\n",
              "      <td>medium</td>\n",
              "      <td>medium</td>\n",
              "      <td>1198.46</td>\n",
              "      <td>381.10</td>\n",
              "      <td>36145.0</td>\n",
              "    </tr>\n",
              "    <tr>\n",
              "      <th>787</th>\n",
              "      <td>5</td>\n",
              "      <td>78</td>\n",
              "      <td>2017-10-01</td>\n",
              "      <td>1.0</td>\n",
              "      <td>Approved</td>\n",
              "      <td>Giant Bicycles</td>\n",
              "      <td>Standard</td>\n",
              "      <td>medium</td>\n",
              "      <td>large</td>\n",
              "      <td>1765.30</td>\n",
              "      <td>709.48</td>\n",
              "      <td>42226.0</td>\n",
              "    </tr>\n",
              "    <tr>\n",
              "      <th>...</th>\n",
              "      <td>...</td>\n",
              "      <td>...</td>\n",
              "      <td>...</td>\n",
              "      <td>...</td>\n",
              "      <td>...</td>\n",
              "      <td>...</td>\n",
              "      <td>...</td>\n",
              "      <td>...</td>\n",
              "      <td>...</td>\n",
              "      <td>...</td>\n",
              "      <td>...</td>\n",
              "      <td>...</td>\n",
              "    </tr>\n",
              "    <tr>\n",
              "      <th>1018</th>\n",
              "      <td>19996</td>\n",
              "      <td>51</td>\n",
              "      <td>2017-06-24</td>\n",
              "      <td>1.0</td>\n",
              "      <td>Approved</td>\n",
              "      <td>OHM Cycles</td>\n",
              "      <td>Standard</td>\n",
              "      <td>high</td>\n",
              "      <td>medium</td>\n",
              "      <td>2005.66</td>\n",
              "      <td>1203.40</td>\n",
              "      <td>37823.0</td>\n",
              "    </tr>\n",
              "    <tr>\n",
              "      <th>127</th>\n",
              "      <td>19997</td>\n",
              "      <td>41</td>\n",
              "      <td>2017-11-09</td>\n",
              "      <td>1.0</td>\n",
              "      <td>Approved</td>\n",
              "      <td>Solex</td>\n",
              "      <td>Road</td>\n",
              "      <td>medium</td>\n",
              "      <td>medium</td>\n",
              "      <td>416.98</td>\n",
              "      <td>312.74</td>\n",
              "      <td>35560.0</td>\n",
              "    </tr>\n",
              "    <tr>\n",
              "      <th>2284</th>\n",
              "      <td>19998</td>\n",
              "      <td>87</td>\n",
              "      <td>2017-04-14</td>\n",
              "      <td>1.0</td>\n",
              "      <td>Approved</td>\n",
              "      <td>OHM Cycles</td>\n",
              "      <td>Standard</td>\n",
              "      <td>medium</td>\n",
              "      <td>medium</td>\n",
              "      <td>1636.90</td>\n",
              "      <td>44.71</td>\n",
              "      <td>40410.0</td>\n",
              "    </tr>\n",
              "    <tr>\n",
              "      <th>2764</th>\n",
              "      <td>19999</td>\n",
              "      <td>6</td>\n",
              "      <td>2017-07-03</td>\n",
              "      <td>0.0</td>\n",
              "      <td>Approved</td>\n",
              "      <td>OHM Cycles</td>\n",
              "      <td>Standard</td>\n",
              "      <td>high</td>\n",
              "      <td>medium</td>\n",
              "      <td>227.88</td>\n",
              "      <td>136.73</td>\n",
              "      <td>38216.0</td>\n",
              "    </tr>\n",
              "    <tr>\n",
              "      <th>1144</th>\n",
              "      <td>20000</td>\n",
              "      <td>11</td>\n",
              "      <td>2017-09-22</td>\n",
              "      <td>1.0</td>\n",
              "      <td>Approved</td>\n",
              "      <td>Trek Bicycles</td>\n",
              "      <td>Standard</td>\n",
              "      <td>medium</td>\n",
              "      <td>small</td>\n",
              "      <td>1775.81</td>\n",
              "      <td>1580.47</td>\n",
              "      <td>36334.0</td>\n",
              "    </tr>\n",
              "  </tbody>\n",
              "</table>\n",
              "<p>20000 rows × 12 columns</p>\n",
              "</div>\n",
              "      <button class=\"colab-df-convert\" onclick=\"convertToInteractive('df-08d68481-7741-460a-9090-1950565e140b')\"\n",
              "              title=\"Convert this dataframe to an interactive table.\"\n",
              "              style=\"display:none;\">\n",
              "        \n",
              "  <svg xmlns=\"http://www.w3.org/2000/svg\" height=\"24px\"viewBox=\"0 0 24 24\"\n",
              "       width=\"24px\">\n",
              "    <path d=\"M0 0h24v24H0V0z\" fill=\"none\"/>\n",
              "    <path d=\"M18.56 5.44l.94 2.06.94-2.06 2.06-.94-2.06-.94-.94-2.06-.94 2.06-2.06.94zm-11 1L8.5 8.5l.94-2.06 2.06-.94-2.06-.94L8.5 2.5l-.94 2.06-2.06.94zm10 10l.94 2.06.94-2.06 2.06-.94-2.06-.94-.94-2.06-.94 2.06-2.06.94z\"/><path d=\"M17.41 7.96l-1.37-1.37c-.4-.4-.92-.59-1.43-.59-.52 0-1.04.2-1.43.59L10.3 9.45l-7.72 7.72c-.78.78-.78 2.05 0 2.83L4 21.41c.39.39.9.59 1.41.59.51 0 1.02-.2 1.41-.59l7.78-7.78 2.81-2.81c.8-.78.8-2.07 0-2.86zM5.41 20L4 18.59l7.72-7.72 1.47 1.35L5.41 20z\"/>\n",
              "  </svg>\n",
              "      </button>\n",
              "      \n",
              "  <style>\n",
              "    .colab-df-container {\n",
              "      display:flex;\n",
              "      flex-wrap:wrap;\n",
              "      gap: 12px;\n",
              "    }\n",
              "\n",
              "    .colab-df-convert {\n",
              "      background-color: #E8F0FE;\n",
              "      border: none;\n",
              "      border-radius: 50%;\n",
              "      cursor: pointer;\n",
              "      display: none;\n",
              "      fill: #1967D2;\n",
              "      height: 32px;\n",
              "      padding: 0 0 0 0;\n",
              "      width: 32px;\n",
              "    }\n",
              "\n",
              "    .colab-df-convert:hover {\n",
              "      background-color: #E2EBFA;\n",
              "      box-shadow: 0px 1px 2px rgba(60, 64, 67, 0.3), 0px 1px 3px 1px rgba(60, 64, 67, 0.15);\n",
              "      fill: #174EA6;\n",
              "    }\n",
              "\n",
              "    [theme=dark] .colab-df-convert {\n",
              "      background-color: #3B4455;\n",
              "      fill: #D2E3FC;\n",
              "    }\n",
              "\n",
              "    [theme=dark] .colab-df-convert:hover {\n",
              "      background-color: #434B5C;\n",
              "      box-shadow: 0px 1px 3px 1px rgba(0, 0, 0, 0.15);\n",
              "      filter: drop-shadow(0px 1px 2px rgba(0, 0, 0, 0.3));\n",
              "      fill: #FFFFFF;\n",
              "    }\n",
              "  </style>\n",
              "\n",
              "      <script>\n",
              "        const buttonEl =\n",
              "          document.querySelector('#df-08d68481-7741-460a-9090-1950565e140b button.colab-df-convert');\n",
              "        buttonEl.style.display =\n",
              "          google.colab.kernel.accessAllowed ? 'block' : 'none';\n",
              "\n",
              "        async function convertToInteractive(key) {\n",
              "          const element = document.querySelector('#df-08d68481-7741-460a-9090-1950565e140b');\n",
              "          const dataTable =\n",
              "            await google.colab.kernel.invokeFunction('convertToInteractive',\n",
              "                                                     [key], {});\n",
              "          if (!dataTable) return;\n",
              "\n",
              "          const docLinkHtml = 'Like what you see? Visit the ' +\n",
              "            '<a target=\"_blank\" href=https://colab.research.google.com/notebooks/data_table.ipynb>data table notebook</a>'\n",
              "            + ' to learn more about interactive tables.';\n",
              "          element.innerHTML = '';\n",
              "          dataTable['output_type'] = 'display_data';\n",
              "          await google.colab.output.renderOutput(dataTable, element);\n",
              "          const docLink = document.createElement('div');\n",
              "          docLink.innerHTML = docLinkHtml;\n",
              "          element.appendChild(docLink);\n",
              "        }\n",
              "      </script>\n",
              "    </div>\n",
              "  </div>\n",
              "  "
            ],
            "text/plain": [
              "             transaction_id  product_id  ... standard_cost  product_first_sold_date\n",
              "customer_id                              ...                                       \n",
              "2950                      1           2  ...         53.62                  41245.0\n",
              "3120                      2           3  ...        388.92                  41701.0\n",
              "402                       3          37  ...        248.82                  36361.0\n",
              "3135                      4          88  ...        381.10                  36145.0\n",
              "787                       5          78  ...        709.48                  42226.0\n",
              "...                     ...         ...  ...           ...                      ...\n",
              "1018                  19996          51  ...       1203.40                  37823.0\n",
              "127                   19997          41  ...        312.74                  35560.0\n",
              "2284                  19998          87  ...         44.71                  40410.0\n",
              "2764                  19999           6  ...        136.73                  38216.0\n",
              "1144                  20000          11  ...       1580.47                  36334.0\n",
              "\n",
              "[20000 rows x 12 columns]"
            ]
          },
          "execution_count": 262,
          "metadata": {},
          "output_type": "execute_result"
        }
      ],
      "source": [
        "df2.set_index('customer_id')"
      ]
    },
    {
      "cell_type": "code",
      "execution_count": null,
      "metadata": {
        "colab": {
          "base_uri": "https://localhost:8080/",
          "height": 1000
        },
        "id": "1358BNY6QUUg",
        "outputId": "c05047ce-9ef1-49a0-aeb9-b87216355325"
      },
      "outputs": [
        {
          "data": {
            "text/html": [
              "\n",
              "  <div id=\"df-fce0086b-b555-4f1f-b8c2-d391377d9fa8\">\n",
              "    <div class=\"colab-df-container\">\n",
              "      <div>\n",
              "<style scoped>\n",
              "    .dataframe tbody tr th:only-of-type {\n",
              "        vertical-align: middle;\n",
              "    }\n",
              "\n",
              "    .dataframe tbody tr th {\n",
              "        vertical-align: top;\n",
              "    }\n",
              "\n",
              "    .dataframe thead th {\n",
              "        text-align: right;\n",
              "    }\n",
              "</style>\n",
              "<table border=\"1\" class=\"dataframe\">\n",
              "  <thead>\n",
              "    <tr style=\"text-align: right;\">\n",
              "      <th></th>\n",
              "      <th>past_3_years_bike_related_purchases</th>\n",
              "      <th>postcode</th>\n",
              "    </tr>\n",
              "    <tr>\n",
              "      <th>Age</th>\n",
              "      <th></th>\n",
              "      <th></th>\n",
              "    </tr>\n",
              "  </thead>\n",
              "  <tbody>\n",
              "    <tr>\n",
              "      <th>43</th>\n",
              "      <td>8248</td>\n",
              "      <td>469201.0</td>\n",
              "    </tr>\n",
              "    <tr>\n",
              "      <th>44</th>\n",
              "      <td>7251</td>\n",
              "      <td>465829.0</td>\n",
              "    </tr>\n",
              "    <tr>\n",
              "      <th>47</th>\n",
              "      <td>6004</td>\n",
              "      <td>354529.0</td>\n",
              "    </tr>\n",
              "    <tr>\n",
              "      <th>45</th>\n",
              "      <td>5720</td>\n",
              "      <td>333159.0</td>\n",
              "    </tr>\n",
              "    <tr>\n",
              "      <th>48</th>\n",
              "      <td>4625</td>\n",
              "      <td>279419.0</td>\n",
              "    </tr>\n",
              "    <tr>\n",
              "      <th>42</th>\n",
              "      <td>4562</td>\n",
              "      <td>277204.0</td>\n",
              "    </tr>\n",
              "    <tr>\n",
              "      <th>46</th>\n",
              "      <td>4219</td>\n",
              "      <td>246988.0</td>\n",
              "    </tr>\n",
              "    <tr>\n",
              "      <th>35</th>\n",
              "      <td>4191</td>\n",
              "      <td>238990.0</td>\n",
              "    </tr>\n",
              "    <tr>\n",
              "      <th>41</th>\n",
              "      <td>4134</td>\n",
              "      <td>239838.0</td>\n",
              "    </tr>\n",
              "    <tr>\n",
              "      <th>29</th>\n",
              "      <td>3338</td>\n",
              "      <td>193250.0</td>\n",
              "    </tr>\n",
              "    <tr>\n",
              "      <th>36</th>\n",
              "      <td>3298</td>\n",
              "      <td>212791.0</td>\n",
              "    </tr>\n",
              "    <tr>\n",
              "      <th>32</th>\n",
              "      <td>3283</td>\n",
              "      <td>164194.0</td>\n",
              "    </tr>\n",
              "    <tr>\n",
              "      <th>40</th>\n",
              "      <td>3181</td>\n",
              "      <td>182870.0</td>\n",
              "    </tr>\n",
              "    <tr>\n",
              "      <th>23</th>\n",
              "      <td>3123</td>\n",
              "      <td>174814.0</td>\n",
              "    </tr>\n",
              "    <tr>\n",
              "      <th>33</th>\n",
              "      <td>3020</td>\n",
              "      <td>173878.0</td>\n",
              "    </tr>\n",
              "    <tr>\n",
              "      <th>26</th>\n",
              "      <td>2950</td>\n",
              "      <td>165150.0</td>\n",
              "    </tr>\n",
              "    <tr>\n",
              "      <th>52</th>\n",
              "      <td>2903</td>\n",
              "      <td>162779.0</td>\n",
              "    </tr>\n",
              "    <tr>\n",
              "      <th>27</th>\n",
              "      <td>2760</td>\n",
              "      <td>192132.0</td>\n",
              "    </tr>\n",
              "    <tr>\n",
              "      <th>54</th>\n",
              "      <td>2721</td>\n",
              "      <td>163828.0</td>\n",
              "    </tr>\n",
              "    <tr>\n",
              "      <th>25</th>\n",
              "      <td>2721</td>\n",
              "      <td>165375.0</td>\n",
              "    </tr>\n",
              "    <tr>\n",
              "      <th>57</th>\n",
              "      <td>2712</td>\n",
              "      <td>185534.0</td>\n",
              "    </tr>\n",
              "    <tr>\n",
              "      <th>62</th>\n",
              "      <td>2703</td>\n",
              "      <td>187316.0</td>\n",
              "    </tr>\n",
              "    <tr>\n",
              "      <th>22</th>\n",
              "      <td>2703</td>\n",
              "      <td>152118.0</td>\n",
              "    </tr>\n",
              "    <tr>\n",
              "      <th>50</th>\n",
              "      <td>2695</td>\n",
              "      <td>186965.0</td>\n",
              "    </tr>\n",
              "    <tr>\n",
              "      <th>56</th>\n",
              "      <td>2690</td>\n",
              "      <td>156899.0</td>\n",
              "    </tr>\n",
              "    <tr>\n",
              "      <th>65</th>\n",
              "      <td>2684</td>\n",
              "      <td>152491.0</td>\n",
              "    </tr>\n",
              "    <tr>\n",
              "      <th>55</th>\n",
              "      <td>2587</td>\n",
              "      <td>161184.0</td>\n",
              "    </tr>\n",
              "    <tr>\n",
              "      <th>34</th>\n",
              "      <td>2510</td>\n",
              "      <td>162398.0</td>\n",
              "    </tr>\n",
              "    <tr>\n",
              "      <th>53</th>\n",
              "      <td>2424</td>\n",
              "      <td>134207.0</td>\n",
              "    </tr>\n",
              "    <tr>\n",
              "      <th>24</th>\n",
              "      <td>2374</td>\n",
              "      <td>143651.0</td>\n",
              "    </tr>\n",
              "    <tr>\n",
              "      <th>28</th>\n",
              "      <td>2318</td>\n",
              "      <td>135704.0</td>\n",
              "    </tr>\n",
              "    <tr>\n",
              "      <th>58</th>\n",
              "      <td>2257</td>\n",
              "      <td>134100.0</td>\n",
              "    </tr>\n",
              "    <tr>\n",
              "      <th>60</th>\n",
              "      <td>2179</td>\n",
              "      <td>121301.0</td>\n",
              "    </tr>\n",
              "    <tr>\n",
              "      <th>66</th>\n",
              "      <td>2115</td>\n",
              "      <td>126021.0</td>\n",
              "    </tr>\n",
              "    <tr>\n",
              "      <th>59</th>\n",
              "      <td>2115</td>\n",
              "      <td>133061.0</td>\n",
              "    </tr>\n",
              "    <tr>\n",
              "      <th>61</th>\n",
              "      <td>2062</td>\n",
              "      <td>136631.0</td>\n",
              "    </tr>\n",
              "    <tr>\n",
              "      <th>64</th>\n",
              "      <td>2016</td>\n",
              "      <td>123044.0</td>\n",
              "    </tr>\n",
              "    <tr>\n",
              "      <th>31</th>\n",
              "      <td>1921</td>\n",
              "      <td>104248.0</td>\n",
              "    </tr>\n",
              "    <tr>\n",
              "      <th>51</th>\n",
              "      <td>1895</td>\n",
              "      <td>125302.0</td>\n",
              "    </tr>\n",
              "    <tr>\n",
              "      <th>67</th>\n",
              "      <td>1690</td>\n",
              "      <td>107113.0</td>\n",
              "    </tr>\n",
              "    <tr>\n",
              "      <th>63</th>\n",
              "      <td>1585</td>\n",
              "      <td>108317.0</td>\n",
              "    </tr>\n",
              "    <tr>\n",
              "      <th>49</th>\n",
              "      <td>1583</td>\n",
              "      <td>115252.0</td>\n",
              "    </tr>\n",
              "    <tr>\n",
              "      <th>38</th>\n",
              "      <td>1560</td>\n",
              "      <td>89220.0</td>\n",
              "    </tr>\n",
              "    <tr>\n",
              "      <th>39</th>\n",
              "      <td>1494</td>\n",
              "      <td>84871.0</td>\n",
              "    </tr>\n",
              "    <tr>\n",
              "      <th>30</th>\n",
              "      <td>1412</td>\n",
              "      <td>102510.0</td>\n",
              "    </tr>\n",
              "    <tr>\n",
              "      <th>21</th>\n",
              "      <td>1346</td>\n",
              "      <td>90805.0</td>\n",
              "    </tr>\n",
              "    <tr>\n",
              "      <th>37</th>\n",
              "      <td>1297</td>\n",
              "      <td>69971.0</td>\n",
              "    </tr>\n",
              "    <tr>\n",
              "      <th>20</th>\n",
              "      <td>1247</td>\n",
              "      <td>85585.0</td>\n",
              "    </tr>\n",
              "    <tr>\n",
              "      <th>68</th>\n",
              "      <td>973</td>\n",
              "      <td>59268.0</td>\n",
              "    </tr>\n",
              "    <tr>\n",
              "      <th>19</th>\n",
              "      <td>113</td>\n",
              "      <td>4259.0</td>\n",
              "    </tr>\n",
              "    <tr>\n",
              "      <th>90</th>\n",
              "      <td>67</td>\n",
              "      <td>2026.0</td>\n",
              "    </tr>\n",
              "    <tr>\n",
              "      <th>78</th>\n",
              "      <td>65</td>\n",
              "      <td>6107.0</td>\n",
              "    </tr>\n",
              "    <tr>\n",
              "      <th>86</th>\n",
              "      <td>56</td>\n",
              "      <td>3337.0</td>\n",
              "    </tr>\n",
              "  </tbody>\n",
              "</table>\n",
              "</div>\n",
              "      <button class=\"colab-df-convert\" onclick=\"convertToInteractive('df-fce0086b-b555-4f1f-b8c2-d391377d9fa8')\"\n",
              "              title=\"Convert this dataframe to an interactive table.\"\n",
              "              style=\"display:none;\">\n",
              "        \n",
              "  <svg xmlns=\"http://www.w3.org/2000/svg\" height=\"24px\"viewBox=\"0 0 24 24\"\n",
              "       width=\"24px\">\n",
              "    <path d=\"M0 0h24v24H0V0z\" fill=\"none\"/>\n",
              "    <path d=\"M18.56 5.44l.94 2.06.94-2.06 2.06-.94-2.06-.94-.94-2.06-.94 2.06-2.06.94zm-11 1L8.5 8.5l.94-2.06 2.06-.94-2.06-.94L8.5 2.5l-.94 2.06-2.06.94zm10 10l.94 2.06.94-2.06 2.06-.94-2.06-.94-.94-2.06-.94 2.06-2.06.94z\"/><path d=\"M17.41 7.96l-1.37-1.37c-.4-.4-.92-.59-1.43-.59-.52 0-1.04.2-1.43.59L10.3 9.45l-7.72 7.72c-.78.78-.78 2.05 0 2.83L4 21.41c.39.39.9.59 1.41.59.51 0 1.02-.2 1.41-.59l7.78-7.78 2.81-2.81c.8-.78.8-2.07 0-2.86zM5.41 20L4 18.59l7.72-7.72 1.47 1.35L5.41 20z\"/>\n",
              "  </svg>\n",
              "      </button>\n",
              "      \n",
              "  <style>\n",
              "    .colab-df-container {\n",
              "      display:flex;\n",
              "      flex-wrap:wrap;\n",
              "      gap: 12px;\n",
              "    }\n",
              "\n",
              "    .colab-df-convert {\n",
              "      background-color: #E8F0FE;\n",
              "      border: none;\n",
              "      border-radius: 50%;\n",
              "      cursor: pointer;\n",
              "      display: none;\n",
              "      fill: #1967D2;\n",
              "      height: 32px;\n",
              "      padding: 0 0 0 0;\n",
              "      width: 32px;\n",
              "    }\n",
              "\n",
              "    .colab-df-convert:hover {\n",
              "      background-color: #E2EBFA;\n",
              "      box-shadow: 0px 1px 2px rgba(60, 64, 67, 0.3), 0px 1px 3px 1px rgba(60, 64, 67, 0.15);\n",
              "      fill: #174EA6;\n",
              "    }\n",
              "\n",
              "    [theme=dark] .colab-df-convert {\n",
              "      background-color: #3B4455;\n",
              "      fill: #D2E3FC;\n",
              "    }\n",
              "\n",
              "    [theme=dark] .colab-df-convert:hover {\n",
              "      background-color: #434B5C;\n",
              "      box-shadow: 0px 1px 3px 1px rgba(0, 0, 0, 0.15);\n",
              "      filter: drop-shadow(0px 1px 2px rgba(0, 0, 0, 0.3));\n",
              "      fill: #FFFFFF;\n",
              "    }\n",
              "  </style>\n",
              "\n",
              "      <script>\n",
              "        const buttonEl =\n",
              "          document.querySelector('#df-fce0086b-b555-4f1f-b8c2-d391377d9fa8 button.colab-df-convert');\n",
              "        buttonEl.style.display =\n",
              "          google.colab.kernel.accessAllowed ? 'block' : 'none';\n",
              "\n",
              "        async function convertToInteractive(key) {\n",
              "          const element = document.querySelector('#df-fce0086b-b555-4f1f-b8c2-d391377d9fa8');\n",
              "          const dataTable =\n",
              "            await google.colab.kernel.invokeFunction('convertToInteractive',\n",
              "                                                     [key], {});\n",
              "          if (!dataTable) return;\n",
              "\n",
              "          const docLinkHtml = 'Like what you see? Visit the ' +\n",
              "            '<a target=\"_blank\" href=https://colab.research.google.com/notebooks/data_table.ipynb>data table notebook</a>'\n",
              "            + ' to learn more about interactive tables.';\n",
              "          element.innerHTML = '';\n",
              "          dataTable['output_type'] = 'display_data';\n",
              "          await google.colab.output.renderOutput(dataTable, element);\n",
              "          const docLink = document.createElement('div');\n",
              "          docLink.innerHTML = docLinkHtml;\n",
              "          element.appendChild(docLink);\n",
              "        }\n",
              "      </script>\n",
              "    </div>\n",
              "  </div>\n",
              "  "
            ],
            "text/plain": [
              "     past_3_years_bike_related_purchases  postcode\n",
              "Age                                               \n",
              "43                                  8248  469201.0\n",
              "44                                  7251  465829.0\n",
              "47                                  6004  354529.0\n",
              "45                                  5720  333159.0\n",
              "48                                  4625  279419.0\n",
              "42                                  4562  277204.0\n",
              "46                                  4219  246988.0\n",
              "35                                  4191  238990.0\n",
              "41                                  4134  239838.0\n",
              "29                                  3338  193250.0\n",
              "36                                  3298  212791.0\n",
              "32                                  3283  164194.0\n",
              "40                                  3181  182870.0\n",
              "23                                  3123  174814.0\n",
              "33                                  3020  173878.0\n",
              "26                                  2950  165150.0\n",
              "52                                  2903  162779.0\n",
              "27                                  2760  192132.0\n",
              "54                                  2721  163828.0\n",
              "25                                  2721  165375.0\n",
              "57                                  2712  185534.0\n",
              "62                                  2703  187316.0\n",
              "22                                  2703  152118.0\n",
              "50                                  2695  186965.0\n",
              "56                                  2690  156899.0\n",
              "65                                  2684  152491.0\n",
              "55                                  2587  161184.0\n",
              "34                                  2510  162398.0\n",
              "53                                  2424  134207.0\n",
              "24                                  2374  143651.0\n",
              "28                                  2318  135704.0\n",
              "58                                  2257  134100.0\n",
              "60                                  2179  121301.0\n",
              "66                                  2115  126021.0\n",
              "59                                  2115  133061.0\n",
              "61                                  2062  136631.0\n",
              "64                                  2016  123044.0\n",
              "31                                  1921  104248.0\n",
              "51                                  1895  125302.0\n",
              "67                                  1690  107113.0\n",
              "63                                  1585  108317.0\n",
              "49                                  1583  115252.0\n",
              "38                                  1560   89220.0\n",
              "39                                  1494   84871.0\n",
              "30                                  1412  102510.0\n",
              "21                                  1346   90805.0\n",
              "37                                  1297   69971.0\n",
              "20                                  1247   85585.0\n",
              "68                                   973   59268.0\n",
              "19                                   113    4259.0\n",
              "90                                    67    2026.0\n",
              "78                                    65    6107.0\n",
              "86                                    56    3337.0"
            ]
          },
          "execution_count": 263,
          "metadata": {},
          "output_type": "execute_result"
        }
      ],
      "source": [
        "group=df.groupby('Age')\n",
        "f=group.sum()\n",
        "f.sort_values('past_3_years_bike_related_purchases',ascending=False)"
      ]
    },
    {
      "cell_type": "code",
      "execution_count": null,
      "metadata": {
        "colab": {
          "base_uri": "https://localhost:8080/",
          "height": 363
        },
        "id": "JHQBsULARPBH",
        "outputId": "c787db2c-83e9-4dcc-9aab-3b9585f8a38c"
      },
      "outputs": [
        {
          "data": {
            "text/html": [
              "\n",
              "  <div id=\"df-7b7a6fdd-8c4b-49a9-851b-9460955a2847\">\n",
              "    <div class=\"colab-df-container\">\n",
              "      <div>\n",
              "<style scoped>\n",
              "    .dataframe tbody tr th:only-of-type {\n",
              "        vertical-align: middle;\n",
              "    }\n",
              "\n",
              "    .dataframe tbody tr th {\n",
              "        vertical-align: top;\n",
              "    }\n",
              "\n",
              "    .dataframe thead th {\n",
              "        text-align: right;\n",
              "    }\n",
              "</style>\n",
              "<table border=\"1\" class=\"dataframe\">\n",
              "  <thead>\n",
              "    <tr style=\"text-align: right;\">\n",
              "      <th></th>\n",
              "      <th>past_3_years_bike_related_purchases</th>\n",
              "      <th>Age</th>\n",
              "      <th>postcode</th>\n",
              "    </tr>\n",
              "    <tr>\n",
              "      <th>job_industry_category</th>\n",
              "      <th></th>\n",
              "      <th></th>\n",
              "      <th></th>\n",
              "    </tr>\n",
              "  </thead>\n",
              "  <tbody>\n",
              "    <tr>\n",
              "      <th>Manufacturing</th>\n",
              "      <td>34702</td>\n",
              "      <td>30663</td>\n",
              "      <td>2092578.0</td>\n",
              "    </tr>\n",
              "    <tr>\n",
              "      <th>Financial Services</th>\n",
              "      <td>33122</td>\n",
              "      <td>29252</td>\n",
              "      <td>2047218.0</td>\n",
              "    </tr>\n",
              "    <tr>\n",
              "      <th>Health</th>\n",
              "      <td>27181</td>\n",
              "      <td>24007</td>\n",
              "      <td>1587434.0</td>\n",
              "    </tr>\n",
              "    <tr>\n",
              "      <th>Retail</th>\n",
              "      <td>15054</td>\n",
              "      <td>13563</td>\n",
              "      <td>927926.0</td>\n",
              "    </tr>\n",
              "    <tr>\n",
              "      <th>Property</th>\n",
              "      <td>11479</td>\n",
              "      <td>10054</td>\n",
              "      <td>674637.0</td>\n",
              "    </tr>\n",
              "    <tr>\n",
              "      <th>IT</th>\n",
              "      <td>6496</td>\n",
              "      <td>5482</td>\n",
              "      <td>376468.0</td>\n",
              "    </tr>\n",
              "    <tr>\n",
              "      <th>Entertainment</th>\n",
              "      <td>5784</td>\n",
              "      <td>5360</td>\n",
              "      <td>370613.0</td>\n",
              "    </tr>\n",
              "    <tr>\n",
              "      <th>Argiculture</th>\n",
              "      <td>5285</td>\n",
              "      <td>4284</td>\n",
              "      <td>291336.0</td>\n",
              "    </tr>\n",
              "    <tr>\n",
              "      <th>Telecommunications</th>\n",
              "      <td>2597</td>\n",
              "      <td>2723</td>\n",
              "      <td>178824.0</td>\n",
              "    </tr>\n",
              "  </tbody>\n",
              "</table>\n",
              "</div>\n",
              "      <button class=\"colab-df-convert\" onclick=\"convertToInteractive('df-7b7a6fdd-8c4b-49a9-851b-9460955a2847')\"\n",
              "              title=\"Convert this dataframe to an interactive table.\"\n",
              "              style=\"display:none;\">\n",
              "        \n",
              "  <svg xmlns=\"http://www.w3.org/2000/svg\" height=\"24px\"viewBox=\"0 0 24 24\"\n",
              "       width=\"24px\">\n",
              "    <path d=\"M0 0h24v24H0V0z\" fill=\"none\"/>\n",
              "    <path d=\"M18.56 5.44l.94 2.06.94-2.06 2.06-.94-2.06-.94-.94-2.06-.94 2.06-2.06.94zm-11 1L8.5 8.5l.94-2.06 2.06-.94-2.06-.94L8.5 2.5l-.94 2.06-2.06.94zm10 10l.94 2.06.94-2.06 2.06-.94-2.06-.94-.94-2.06-.94 2.06-2.06.94z\"/><path d=\"M17.41 7.96l-1.37-1.37c-.4-.4-.92-.59-1.43-.59-.52 0-1.04.2-1.43.59L10.3 9.45l-7.72 7.72c-.78.78-.78 2.05 0 2.83L4 21.41c.39.39.9.59 1.41.59.51 0 1.02-.2 1.41-.59l7.78-7.78 2.81-2.81c.8-.78.8-2.07 0-2.86zM5.41 20L4 18.59l7.72-7.72 1.47 1.35L5.41 20z\"/>\n",
              "  </svg>\n",
              "      </button>\n",
              "      \n",
              "  <style>\n",
              "    .colab-df-container {\n",
              "      display:flex;\n",
              "      flex-wrap:wrap;\n",
              "      gap: 12px;\n",
              "    }\n",
              "\n",
              "    .colab-df-convert {\n",
              "      background-color: #E8F0FE;\n",
              "      border: none;\n",
              "      border-radius: 50%;\n",
              "      cursor: pointer;\n",
              "      display: none;\n",
              "      fill: #1967D2;\n",
              "      height: 32px;\n",
              "      padding: 0 0 0 0;\n",
              "      width: 32px;\n",
              "    }\n",
              "\n",
              "    .colab-df-convert:hover {\n",
              "      background-color: #E2EBFA;\n",
              "      box-shadow: 0px 1px 2px rgba(60, 64, 67, 0.3), 0px 1px 3px 1px rgba(60, 64, 67, 0.15);\n",
              "      fill: #174EA6;\n",
              "    }\n",
              "\n",
              "    [theme=dark] .colab-df-convert {\n",
              "      background-color: #3B4455;\n",
              "      fill: #D2E3FC;\n",
              "    }\n",
              "\n",
              "    [theme=dark] .colab-df-convert:hover {\n",
              "      background-color: #434B5C;\n",
              "      box-shadow: 0px 1px 3px 1px rgba(0, 0, 0, 0.15);\n",
              "      filter: drop-shadow(0px 1px 2px rgba(0, 0, 0, 0.3));\n",
              "      fill: #FFFFFF;\n",
              "    }\n",
              "  </style>\n",
              "\n",
              "      <script>\n",
              "        const buttonEl =\n",
              "          document.querySelector('#df-7b7a6fdd-8c4b-49a9-851b-9460955a2847 button.colab-df-convert');\n",
              "        buttonEl.style.display =\n",
              "          google.colab.kernel.accessAllowed ? 'block' : 'none';\n",
              "\n",
              "        async function convertToInteractive(key) {\n",
              "          const element = document.querySelector('#df-7b7a6fdd-8c4b-49a9-851b-9460955a2847');\n",
              "          const dataTable =\n",
              "            await google.colab.kernel.invokeFunction('convertToInteractive',\n",
              "                                                     [key], {});\n",
              "          if (!dataTable) return;\n",
              "\n",
              "          const docLinkHtml = 'Like what you see? Visit the ' +\n",
              "            '<a target=\"_blank\" href=https://colab.research.google.com/notebooks/data_table.ipynb>data table notebook</a>'\n",
              "            + ' to learn more about interactive tables.';\n",
              "          element.innerHTML = '';\n",
              "          dataTable['output_type'] = 'display_data';\n",
              "          await google.colab.output.renderOutput(dataTable, element);\n",
              "          const docLink = document.createElement('div');\n",
              "          docLink.innerHTML = docLinkHtml;\n",
              "          element.appendChild(docLink);\n",
              "        }\n",
              "      </script>\n",
              "    </div>\n",
              "  </div>\n",
              "  "
            ],
            "text/plain": [
              "                       past_3_years_bike_related_purchases    Age   postcode\n",
              "job_industry_category                                                       \n",
              "Manufacturing                                        34702  30663  2092578.0\n",
              "Financial Services                                   33122  29252  2047218.0\n",
              "Health                                               27181  24007  1587434.0\n",
              "Retail                                               15054  13563   927926.0\n",
              "Property                                             11479  10054   674637.0\n",
              "IT                                                    6496   5482   376468.0\n",
              "Entertainment                                         5784   5360   370613.0\n",
              "Argiculture                                           5285   4284   291336.0\n",
              "Telecommunications                                    2597   2723   178824.0"
            ]
          },
          "execution_count": 264,
          "metadata": {},
          "output_type": "execute_result"
        }
      ],
      "source": [
        "group=df.groupby('job_industry_category')\n",
        "f=group.sum()\n",
        "f.sort_values('past_3_years_bike_related_purchases',ascending=False)"
      ]
    },
    {
      "cell_type": "code",
      "execution_count": null,
      "metadata": {
        "colab": {
          "base_uri": "https://localhost:8080/",
          "height": 363
        },
        "id": "dI8zOkrtSxyT",
        "outputId": "175350b1-a2f1-4a55-979c-3ae72fb60cb7"
      },
      "outputs": [
        {
          "data": {
            "text/html": [
              "\n",
              "  <div id=\"df-4b65e231-0ea5-4dd4-a558-c7c10015e176\">\n",
              "    <div class=\"colab-df-container\">\n",
              "      <div>\n",
              "<style scoped>\n",
              "    .dataframe tbody tr th:only-of-type {\n",
              "        vertical-align: middle;\n",
              "    }\n",
              "\n",
              "    .dataframe tbody tr th {\n",
              "        vertical-align: top;\n",
              "    }\n",
              "\n",
              "    .dataframe thead th {\n",
              "        text-align: right;\n",
              "    }\n",
              "</style>\n",
              "<table border=\"1\" class=\"dataframe\">\n",
              "  <thead>\n",
              "    <tr style=\"text-align: right;\">\n",
              "      <th></th>\n",
              "      <th>past_3_years_bike_related_purchases</th>\n",
              "      <th>Age</th>\n",
              "      <th>postcode</th>\n",
              "    </tr>\n",
              "    <tr>\n",
              "      <th>job_industry_category</th>\n",
              "      <th></th>\n",
              "      <th></th>\n",
              "      <th></th>\n",
              "    </tr>\n",
              "  </thead>\n",
              "  <tbody>\n",
              "    <tr>\n",
              "      <th>Argiculture</th>\n",
              "      <td>53.383838</td>\n",
              "      <td>43.272727</td>\n",
              "      <td>2942.787879</td>\n",
              "    </tr>\n",
              "    <tr>\n",
              "      <th>Entertainment</th>\n",
              "      <td>47.409836</td>\n",
              "      <td>43.934426</td>\n",
              "      <td>3037.811475</td>\n",
              "    </tr>\n",
              "    <tr>\n",
              "      <th>Financial Services</th>\n",
              "      <td>48.637298</td>\n",
              "      <td>42.954479</td>\n",
              "      <td>3006.193833</td>\n",
              "    </tr>\n",
              "    <tr>\n",
              "      <th>Health</th>\n",
              "      <td>50.057090</td>\n",
              "      <td>44.211786</td>\n",
              "      <td>2923.451197</td>\n",
              "    </tr>\n",
              "    <tr>\n",
              "      <th>IT</th>\n",
              "      <td>51.149606</td>\n",
              "      <td>43.165354</td>\n",
              "      <td>2964.314961</td>\n",
              "    </tr>\n",
              "    <tr>\n",
              "      <th>Manufacturing</th>\n",
              "      <td>49.930935</td>\n",
              "      <td>44.119424</td>\n",
              "      <td>3010.903597</td>\n",
              "    </tr>\n",
              "    <tr>\n",
              "      <th>Property</th>\n",
              "      <td>49.908696</td>\n",
              "      <td>43.713043</td>\n",
              "      <td>2933.204348</td>\n",
              "    </tr>\n",
              "    <tr>\n",
              "      <th>Retail</th>\n",
              "      <td>49.357377</td>\n",
              "      <td>44.468852</td>\n",
              "      <td>3042.380328</td>\n",
              "    </tr>\n",
              "    <tr>\n",
              "      <th>Telecommunications</th>\n",
              "      <td>42.573770</td>\n",
              "      <td>44.639344</td>\n",
              "      <td>2931.540984</td>\n",
              "    </tr>\n",
              "  </tbody>\n",
              "</table>\n",
              "</div>\n",
              "      <button class=\"colab-df-convert\" onclick=\"convertToInteractive('df-4b65e231-0ea5-4dd4-a558-c7c10015e176')\"\n",
              "              title=\"Convert this dataframe to an interactive table.\"\n",
              "              style=\"display:none;\">\n",
              "        \n",
              "  <svg xmlns=\"http://www.w3.org/2000/svg\" height=\"24px\"viewBox=\"0 0 24 24\"\n",
              "       width=\"24px\">\n",
              "    <path d=\"M0 0h24v24H0V0z\" fill=\"none\"/>\n",
              "    <path d=\"M18.56 5.44l.94 2.06.94-2.06 2.06-.94-2.06-.94-.94-2.06-.94 2.06-2.06.94zm-11 1L8.5 8.5l.94-2.06 2.06-.94-2.06-.94L8.5 2.5l-.94 2.06-2.06.94zm10 10l.94 2.06.94-2.06 2.06-.94-2.06-.94-.94-2.06-.94 2.06-2.06.94z\"/><path d=\"M17.41 7.96l-1.37-1.37c-.4-.4-.92-.59-1.43-.59-.52 0-1.04.2-1.43.59L10.3 9.45l-7.72 7.72c-.78.78-.78 2.05 0 2.83L4 21.41c.39.39.9.59 1.41.59.51 0 1.02-.2 1.41-.59l7.78-7.78 2.81-2.81c.8-.78.8-2.07 0-2.86zM5.41 20L4 18.59l7.72-7.72 1.47 1.35L5.41 20z\"/>\n",
              "  </svg>\n",
              "      </button>\n",
              "      \n",
              "  <style>\n",
              "    .colab-df-container {\n",
              "      display:flex;\n",
              "      flex-wrap:wrap;\n",
              "      gap: 12px;\n",
              "    }\n",
              "\n",
              "    .colab-df-convert {\n",
              "      background-color: #E8F0FE;\n",
              "      border: none;\n",
              "      border-radius: 50%;\n",
              "      cursor: pointer;\n",
              "      display: none;\n",
              "      fill: #1967D2;\n",
              "      height: 32px;\n",
              "      padding: 0 0 0 0;\n",
              "      width: 32px;\n",
              "    }\n",
              "\n",
              "    .colab-df-convert:hover {\n",
              "      background-color: #E2EBFA;\n",
              "      box-shadow: 0px 1px 2px rgba(60, 64, 67, 0.3), 0px 1px 3px 1px rgba(60, 64, 67, 0.15);\n",
              "      fill: #174EA6;\n",
              "    }\n",
              "\n",
              "    [theme=dark] .colab-df-convert {\n",
              "      background-color: #3B4455;\n",
              "      fill: #D2E3FC;\n",
              "    }\n",
              "\n",
              "    [theme=dark] .colab-df-convert:hover {\n",
              "      background-color: #434B5C;\n",
              "      box-shadow: 0px 1px 3px 1px rgba(0, 0, 0, 0.15);\n",
              "      filter: drop-shadow(0px 1px 2px rgba(0, 0, 0, 0.3));\n",
              "      fill: #FFFFFF;\n",
              "    }\n",
              "  </style>\n",
              "\n",
              "      <script>\n",
              "        const buttonEl =\n",
              "          document.querySelector('#df-4b65e231-0ea5-4dd4-a558-c7c10015e176 button.colab-df-convert');\n",
              "        buttonEl.style.display =\n",
              "          google.colab.kernel.accessAllowed ? 'block' : 'none';\n",
              "\n",
              "        async function convertToInteractive(key) {\n",
              "          const element = document.querySelector('#df-4b65e231-0ea5-4dd4-a558-c7c10015e176');\n",
              "          const dataTable =\n",
              "            await google.colab.kernel.invokeFunction('convertToInteractive',\n",
              "                                                     [key], {});\n",
              "          if (!dataTable) return;\n",
              "\n",
              "          const docLinkHtml = 'Like what you see? Visit the ' +\n",
              "            '<a target=\"_blank\" href=https://colab.research.google.com/notebooks/data_table.ipynb>data table notebook</a>'\n",
              "            + ' to learn more about interactive tables.';\n",
              "          element.innerHTML = '';\n",
              "          dataTable['output_type'] = 'display_data';\n",
              "          await google.colab.output.renderOutput(dataTable, element);\n",
              "          const docLink = document.createElement('div');\n",
              "          docLink.innerHTML = docLinkHtml;\n",
              "          element.appendChild(docLink);\n",
              "        }\n",
              "      </script>\n",
              "    </div>\n",
              "  </div>\n",
              "  "
            ],
            "text/plain": [
              "                       past_3_years_bike_related_purchases  ...     postcode\n",
              "job_industry_category                                       ...             \n",
              "Argiculture                                      53.383838  ...  2942.787879\n",
              "Entertainment                                    47.409836  ...  3037.811475\n",
              "Financial Services                               48.637298  ...  3006.193833\n",
              "Health                                           50.057090  ...  2923.451197\n",
              "IT                                               51.149606  ...  2964.314961\n",
              "Manufacturing                                    49.930935  ...  3010.903597\n",
              "Property                                         49.908696  ...  2933.204348\n",
              "Retail                                           49.357377  ...  3042.380328\n",
              "Telecommunications                               42.573770  ...  2931.540984\n",
              "\n",
              "[9 rows x 3 columns]"
            ]
          },
          "execution_count": 265,
          "metadata": {},
          "output_type": "execute_result"
        }
      ],
      "source": [
        "group=df.groupby('job_industry_category')\n",
        "f=group.mean()\n",
        "f"
      ]
    },
    {
      "cell_type": "code",
      "execution_count": null,
      "metadata": {
        "colab": {
          "base_uri": "https://localhost:8080/",
          "height": 300
        },
        "id": "IcjGs-dGTjtt",
        "outputId": "f57b3e96-ba11-4c59-d6f8-a26f5dfc98f7"
      },
      "outputs": [
        {
          "data": {
            "text/plain": [
              "<Figure size 1440x720 with 0 Axes>"
            ]
          },
          "execution_count": 266,
          "metadata": {},
          "output_type": "execute_result"
        },
        {
          "data": {
            "image/png": "[encoded data removed]",
            "text/plain": [
              "<Figure size 432x288 with 1 Axes>"
            ]
          },
          "metadata": {
            "needs_background": "light"
          },
          "output_type": "display_data"
        },
        {
          "data": {
            "text/plain": [
              "<Figure size 1440x720 with 0 Axes>"
            ]
          },
          "metadata": {},
          "output_type": "display_data"
        }
      ],
      "source": [
        "df.groupby('state').owns_car.value_counts().unstack(0).plot.barh()\n",
        "plt.figure(figsize=(20,10))"
      ]
    },
    {
      "cell_type": "code",
      "execution_count": null,
      "metadata": {
        "colab": {
          "base_uri": "https://localhost:8080/"
        },
        "id": "Hvks-9jeTYgZ",
        "outputId": "5c829c1a-4ac4-4b00-aeeb-e7692142e0f1"
      },
      "outputs": [
        {
          "data": {
            "text/plain": [
              "Telecommunications     61\n",
              "Argiculture            99\n",
              "Entertainment         122\n",
              "IT                    127\n",
              "Property              230\n",
              "Retail                305\n",
              "Health                543\n",
              "Financial Services    681\n",
              "Manufacturing         695\n",
              "Name: job_industry_category, dtype: int64"
            ]
          },
          "execution_count": 267,
          "metadata": {},
          "output_type": "execute_result"
        }
      ],
      "source": [
        "df['job_industry_category'].value_counts().sort_values()"
      ]
    },
    {
      "cell_type": "code",
      "execution_count": null,
      "metadata": {
        "colab": {
          "base_uri": "https://localhost:8080/",
          "height": 282
        },
        "id": "-iOGjQNBU4T6",
        "outputId": "a7d1af6e-9b86-4aba-815b-0abb832d0316"
      },
      "outputs": [
        {
          "data": {
            "text/plain": [
              "<matplotlib.axes._subplots.AxesSubplot at 0x7f26a5355890>"
            ]
          },
          "execution_count": 268,
          "metadata": {},
          "output_type": "execute_result"
        },
        {
          "data": {
            "image/png": "[encoded data removed]",
            "text/plain": [
              "<Figure size 432x288 with 1 Axes>"
            ]
          },
          "metadata": {
            "needs_background": "light"
          },
          "output_type": "display_data"
        }
      ],
      "source": [
        "df.job_industry_category.value_counts().sort_values().plot(kind = 'barh')"
      ]
    }
  ],
  "metadata": {
    "colab": {
      "authorship_tag": "ABX9TyN47MPfNrPHDP2Sg25Snq9Y",
      "collapsed_sections": [],
      "include_colab_link": true,
      "name": "KPMG Data Analytics Task 2.ipynb",
      "provenance": []
    },
    "kernelspec": {
      "display_name": "Python 3",
      "name": "python3"
    },
    "language_info": {
      "codemirror_mode": {
        "name": "ipython",
        "version": 3
      },
      "file_extension": ".py",
      "mimetype": "text/x-python",
      "name": "python",
      "nbconvert_exporter": "python",
      "pygments_lexer": "ipython3",
      "version": "3.11.4"
    }
  },
  "nbformat": 4,
  "nbformat_minor": 0
}
